{
  "nbformat": 4,
  "nbformat_minor": 0,
  "metadata": {
    "colab": {
      "name": "SVM classifier for digit(4 and 9) classification.ipynb",
      "provenance": [],
      "toc_visible": true
    },
    "kernelspec": {
      "name": "python3",
      "display_name": "Python 3"
    },
    "language_info": {
      "name": "python"
    }
  },
  "cells": [
    {
      "cell_type": "markdown",
      "metadata": {
        "id": "rTu7CJMcPwnz"
      },
      "source": [
        "# Dataset loading"
      ]
    },
    {
      "cell_type": "code",
      "metadata": {
        "id": "iudC-q5keJU3",
        "colab": {
          "base_uri": "https://localhost:8080/"
        },
        "outputId": "06f00f85-70e0-4b16-809e-6e3908da7ed9"
      },
      "source": [
        "import pandas as pd\n",
        "import numpy as np\n",
        "\n",
        "X_train = pd.read_csv('/content/gisette_train.data', header=None, delim_whitespace=True)\n",
        "y_train = pd.read_csv('/content/gisette_train.labels', header=None, delim_whitespace=True)\n",
        "X_test = pd.read_csv('/content/gisette_valid.data', header=None, delim_whitespace=True)\n",
        "y_test = pd.read_csv('/content/gisette_valid.labels', header=None, delim_whitespace=True)\n",
        "\n",
        "print(X_train.shape, y_train.shape, X_test.shape, y_test.shape)"
      ],
      "execution_count": null,
      "outputs": [
        {
          "output_type": "stream",
          "name": "stdout",
          "text": [
            "(6000, 5000) (6000, 1) (1000, 5000) (1000, 1)\n"
          ]
        }
      ]
    },
    {
      "cell_type": "markdown",
      "metadata": {
        "id": "nl7U3zAQP4Xs"
      },
      "source": [
        "# Function to build, train and test SVM"
      ]
    },
    {
      "cell_type": "code",
      "metadata": {
        "id": "B7q4dkHdKxBL"
      },
      "source": [
        "from sklearn import svm\n",
        "from sklearn.metrics import accuracy_score\n",
        "\n",
        "def buildSVM(X_train, y_train, X_test, y_test, kernel = \"rbf\", C = 1.0, gamma = \"scale\", degree = 3, coefficient = 0.0):\n",
        "\n",
        "  classifier = svm.SVC(kernel = kernel, C = C, degree = degree, coef0 = coefficient, random_state = 0, gamma = gamma)\n",
        "  classifier.fit(X_train, y_train)\n",
        "  print(\"Training Accuracy: {:.4f} and Error: {:.4f}\".format(classifier.score(X_train, y_train), 1 - classifier.score(X_train, y_train)))\n",
        "\n",
        "  y_pred = classifier.predict(X_test)\n",
        "  print(\"Testing Accuracy: {:.4f} and Error: {:.4f}\".format(accuracy_score(y_test, y_pred), 1 - accuracy_score(y_test, y_pred)))\n",
        "  print(\"Number of support vectors: \", classifier.n_support_)"
      ],
      "execution_count": null,
      "outputs": []
    },
    {
      "cell_type": "markdown",
      "metadata": {
        "id": "nqi08f49QE20"
      },
      "source": [
        "# Training and testing using linear kernel"
      ]
    },
    {
      "cell_type": "code",
      "metadata": {
        "colab": {
          "base_uri": "https://localhost:8080/"
        },
        "id": "ceiXuhB9LYfK",
        "outputId": "48906185-a2e2-4a75-fbd8-8b92d1b2e57e"
      },
      "source": [
        "buildSVM(X_train, np.ravel(y_train, order='C'), X_test, np.ravel(y_test, order='C'), kernel = \"linear\")"
      ],
      "execution_count": null,
      "outputs": [
        {
          "output_type": "stream",
          "name": "stdout",
          "text": [
            "Training Accuracy: 1.0000 and Error: 0.0000\n",
            "Testing Accuracy: 0.9760 and Error: 0.0240\n",
            "Number of support vectors:  [542 542]\n"
          ]
        }
      ]
    },
    {
      "cell_type": "markdown",
      "metadata": {
        "id": "f7T53aZtQR-l"
      },
      "source": [
        "# Using Polynomial and Gaussian(RBF) kernel"
      ]
    },
    {
      "cell_type": "code",
      "metadata": {
        "colab": {
          "base_uri": "https://localhost:8080/"
        },
        "id": "ZkLN-XfrOMl7",
        "outputId": "1dedf4bd-4ed9-4f51-d948-b83218239c4e"
      },
      "source": [
        "print(\"\\nTraining and testing using RBF kernel\")\n",
        "buildSVM(X_train, np.ravel(y_train, order='C'), X_test, np.ravel(y_test, order='C'), kernel = \"rbf\", gamma = 0.001)\n",
        "\n",
        "print(\"\\nTraining and testing using Polynomial kernel\")\n",
        "buildSVM(X_train, np.ravel(y_train, order='C'), X_test, np.ravel(y_test, order='C'), kernel = \"poly\", gamma = 1.0, degree = 2, coefficient = 1.0)"
      ],
      "execution_count": null,
      "outputs": [
        {
          "output_type": "stream",
          "name": "stdout",
          "text": [
            "\n",
            "Training and testing using RBF kernel\n",
            "Training Accuracy: 1.0000 and Error: 0.0000\n",
            "Testing Accuracy: 0.5000 and Error: 0.5000\n",
            "Number of support vectors:  [3000 3000]\n",
            "\n",
            "Training and testing using Polynomial kernel\n",
            "Training Accuracy: 1.0000 and Error: 0.0000\n",
            "Testing Accuracy: 0.9790 and Error: 0.0210\n",
            "Number of support vectors:  [817 938]\n"
          ]
        }
      ]
    }
  ]
}