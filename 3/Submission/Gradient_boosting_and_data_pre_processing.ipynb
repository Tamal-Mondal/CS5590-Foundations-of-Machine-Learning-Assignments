{
  "nbformat": 4,
  "nbformat_minor": 0,
  "metadata": {
    "colab": {
      "name": "Gradient boosting and data pre-processing.ipynb",
      "provenance": [],
      "collapsed_sections": [],
      "toc_visible": true
    },
    "kernelspec": {
      "name": "python3",
      "display_name": "Python 3"
    },
    "language_info": {
      "name": "python"
    }
  },
  "cells": [
    {
      "cell_type": "markdown",
      "metadata": {
        "id": "XWbOD6OVB-qa"
      },
      "source": [
        "# Data loading"
      ]
    },
    {
      "cell_type": "code",
      "metadata": {
        "colab": {
          "base_uri": "https://localhost:8080/"
        },
        "id": "kNDxUfDc_lvP",
        "outputId": "9bf3ff5d-f24d-4b95-d392-8b930d9d44f8"
      },
      "source": [
        "import time\n",
        "import numpy as np\n",
        "import pandas as pd\n",
        "\n",
        "!pip install -U scikit-learn\n",
        "from sklearn.model_selection import train_test_split\n",
        "\n",
        "import warnings\n",
        "warnings.filterwarnings(\"ignore\")\n",
        "\n",
        "%matplotlib inline\n",
        "pd.set_option('display.max_rows', 500)\n",
        "pd.set_option('display.max_columns', 500)\n",
        "pd.set_option('display.width', 1000)\n",
        "\n",
        "# Load data set\n",
        "loan_test_dataset = pd.read_csv('/content/loan_test.csv')\n",
        "loan_train_dataset = pd.read_csv('/content/loan_train.csv')\n",
        "print(\"\\nIntial shape of train and test data: \", loan_train_dataset.shape, loan_test_dataset.shape)\n",
        "print(\"\\nColumns initially: \", list(loan_test_dataset.columns.values))\n",
        "\n",
        "# Remove rows having loan_status = \"Current\"\n",
        "loan_train_dataset = loan_train_dataset.drop(loan_train_dataset[loan_train_dataset.loan_status == \"Current\"].index)\n",
        "loan_test_dataset = loan_test_dataset.drop(loan_test_dataset[loan_test_dataset.loan_status == \"Current\"].index)\n",
        "print(\"\\nPossible values of loan_status column: \", set(loan_train_dataset[\"loan_status\"]), set(loan_test_dataset[\"loan_status\"]))\n",
        "\n",
        "# Assign +1 for \"Fully Paid\" and -1 for \"Charged Off\" in loan_status column\n",
        "loan_train_dataset[\"loan_status\"] = loan_train_dataset[\"loan_status\"].map({\"Fully Paid\": 1, \"Charged Off\": -1})\n",
        "loan_test_dataset[\"loan_status\"] = loan_test_dataset[\"loan_status\"].map({\"Fully Paid\": 1, \"Charged Off\": -1})\n",
        "print(\"\\nPossible values of loan_status column now: \", set(loan_train_dataset[\"loan_status\"]), set(loan_test_dataset[\"loan_status\"]))\n",
        "\n",
        "print(\"\\n\", loan_train_dataset)\n",
        "print(\"\\n\", loan_test_dataset)"
      ],
      "execution_count": null,
      "outputs": [
        {
          "output_type": "stream",
          "name": "stdout",
          "text": [
            "Requirement already satisfied: scikit-learn in /usr/local/lib/python3.7/dist-packages (1.0.1)\n",
            "Requirement already satisfied: scipy>=1.1.0 in /usr/local/lib/python3.7/dist-packages (from scikit-learn) (1.4.1)\n",
            "Requirement already satisfied: joblib>=0.11 in /usr/local/lib/python3.7/dist-packages (from scikit-learn) (1.0.1)\n",
            "Requirement already satisfied: numpy>=1.14.6 in /usr/local/lib/python3.7/dist-packages (from scikit-learn) (1.19.5)\n",
            "Requirement already satisfied: threadpoolctl>=2.0.0 in /usr/local/lib/python3.7/dist-packages (from scikit-learn) (3.0.0)\n",
            "\n",
            "Intial shape of train and test data:  (24999, 111) (14718, 111)\n",
            "\n",
            "Columns initially:  ['id', 'member_id', 'loan_amnt', 'funded_amnt', 'funded_amnt_inv', 'term', 'int_rate', 'installment', 'grade', 'sub_grade', 'emp_title', 'emp_length', 'home_ownership', 'annual_inc', 'verification_status', 'issue_d', 'loan_status', 'pymnt_plan', 'url', 'desc', 'purpose', 'title', 'zip_code', 'addr_state', 'dti', 'delinq_2yrs', 'earliest_cr_line', 'inq_last_6mths', 'mths_since_last_delinq', 'mths_since_last_record', 'open_acc', 'pub_rec', 'revol_bal', 'revol_util', 'total_acc', 'initial_list_status', 'out_prncp', 'out_prncp_inv', 'total_pymnt', 'total_pymnt_inv', 'total_rec_prncp', 'total_rec_int', 'total_rec_late_fee', 'recoveries', 'collection_recovery_fee', 'last_pymnt_d', 'last_pymnt_amnt', 'next_pymnt_d', 'last_credit_pull_d', 'collections_12_mths_ex_med', 'mths_since_last_major_derog', 'policy_code', 'application_type', 'annual_inc_joint', 'dti_joint', 'verification_status_joint', 'acc_now_delinq', 'tot_coll_amt', 'tot_cur_bal', 'open_acc_6m', 'open_il_6m', 'open_il_12m', 'open_il_24m', 'mths_since_rcnt_il', 'total_bal_il', 'il_util', 'open_rv_12m', 'open_rv_24m', 'max_bal_bc', 'all_util', 'total_rev_hi_lim', 'inq_fi', 'total_cu_tl', 'inq_last_12m', 'acc_open_past_24mths', 'avg_cur_bal', 'bc_open_to_buy', 'bc_util', 'chargeoff_within_12_mths', 'delinq_amnt', 'mo_sin_old_il_acct', 'mo_sin_old_rev_tl_op', 'mo_sin_rcnt_rev_tl_op', 'mo_sin_rcnt_tl', 'mort_acc', 'mths_since_recent_bc', 'mths_since_recent_bc_dlq', 'mths_since_recent_inq', 'mths_since_recent_revol_delinq', 'num_accts_ever_120_pd', 'num_actv_bc_tl', 'num_actv_rev_tl', 'num_bc_sats', 'num_bc_tl', 'num_il_tl', 'num_op_rev_tl', 'num_rev_accts', 'num_rev_tl_bal_gt_0', 'num_sats', 'num_tl_120dpd_2m', 'num_tl_30dpd', 'num_tl_90g_dpd_24m', 'num_tl_op_past_12m', 'pct_tl_nvr_dlq', 'percent_bc_gt_75', 'pub_rec_bankruptcies', 'tax_liens', 'tot_hi_cred_lim', 'total_bal_ex_mort', 'total_bc_limit', 'total_il_high_credit_limit']\n",
            "\n",
            "Possible values of loan_status column:  {'Fully Paid', 'Charged Off'} {'Fully Paid', 'Charged Off'}\n",
            "\n",
            "Possible values of loan_status column now:  {1, -1} {1, -1}\n",
            "\n",
            "            id  member_id  loan_amnt  funded_amnt  funded_amnt_inv        term int_rate  installment grade sub_grade                emp_title emp_length home_ownership  annual_inc verification_status issue_d  loan_status pymnt_plan                                                url                                               desc             purpose                         title zip_code addr_state    dti  delinq_2yrs earliest_cr_line  inq_last_6mths  mths_since_last_delinq  mths_since_last_record  open_acc  pub_rec  revol_bal revol_util  total_acc initial_list_status  out_prncp  out_prncp_inv   total_pymnt  total_pymnt_inv  total_rec_prncp  total_rec_int  total_rec_late_fee  recoveries  collection_recovery_fee last_pymnt_d  last_pymnt_amnt next_pymnt_d last_credit_pull_d  collections_12_mths_ex_med  mths_since_last_major_derog  policy_code application_type  annual_inc_joint  dti_joint  verification_status_joint  acc_now_delinq  tot_coll_amt  tot_cur_bal  open_acc_6m  open_il_6m  \\\n",
            "0      573354     737474      10000        10000       9950.00000   36 months    7.51%       311.11     A        A4                       15  10+ years           RENT     30000.0     Source Verified  10-Sep           -1          n  https://lendingclub.com/browse/loanDetail.acti...        Borrower added on 08/30/10 > thank you<br/>    home_improvement                homeimproement    076xx         NJ   5.00            0            1-Feb               3                     NaN                     NaN        19        0       1450      1.20%         48                   f        0.0            0.0   2247.210000          2235.98          1509.91         350.87                 0.0      386.43                     3.96       11-Mar           311.11          NaN             11-Jul                         0.0                          NaN            1       INDIVIDUAL               NaN        NaN                        NaN               0           NaN          NaN          NaN         NaN   \n",
            "1      476321     603324      15000        15000      14800.00000   36 months    8.94%       476.58     A        A5                     1400     1 year           RENT    147000.0        Not Verified  10-Jan            1          n  https://lendingclub.com/browse/loanDetail.acti...    Borrower added on 01/14/10 > Green city hous...               other                    Green City    300xx         GA   3.47            0           Feb-97               0                     NaN                     NaN         6        0       4910        14%         17                   f        0.0            0.0  15112.760000         14911.26         15000.00         112.76                 0.0        0.00                     0.00       10-Mar         15114.03          NaN             10-Feb                         0.0                          NaN            1       INDIVIDUAL               NaN        NaN                        NaN               0           NaN          NaN          NaN         NaN   \n",
            "2      451484     556265       2000         2000       2000.00000   36 months   13.57%        67.94     C        C3                    36000    4 years            OWN     36000.0        Not Verified   9-Oct            1          n  https://lendingclub.com/browse/loanDetail.acti...                                                         major_purchase           payoff w/in 2 years    310xx         GA   7.83            0           Mar-00               0                     NaN                     NaN         8        0       1790     34.40%         10                   f        0.0            0.0   2354.966827          2354.97          2000.00         354.97                 0.0        0.00                     0.00       11-Dec           101.78          NaN             11-Dec                         0.0                          NaN            1       INDIVIDUAL               NaN        NaN                        NaN               0           NaN          NaN          NaN         NaN   \n",
            "4      800018    1005270      14000        14000      14000.00000   60 months   17.49%       351.64     D        D5             old palm inc    5 years       MORTGAGE     50000.0        Not Verified  11-Jul            1          n  https://lendingclub.com/browse/loanDetail.acti...    Borrower added on 06/29/11 > thanks for the ...  debt_consolidation                        save %    334xx         FL  21.24            1            4-Jun               1                    21.0                    81.0         9        1        553      9.40%         27                   f        0.0            0.0  20804.230020         20804.23         14000.00        6804.23                 0.0        0.00                     0.00       15-Sep          3943.27          NaN             16-May                         0.0                          NaN            1       INDIVIDUAL               NaN        NaN                        NaN               0           NaN          NaN          NaN         NaN   \n",
            "5      471391     595223      12000        12000      11900.00000   36 months    8.94%       381.26     A        A5   Brocade Communications    7 years       MORTGAGE    294000.0        Not Verified   9-Dec            1          n  https://lendingclub.com/browse/loanDetail.acti...                                                NaN               other  Invest in Lending Club Notes    939xx         CA   0.50            0           Aug-93               0                     NaN                     NaN        11        0       5306      2.80%         21                   f        0.0            0.0  12344.811770         12241.94         12000.00         344.81                 0.0        0.00                     0.00       10-May         11204.30          NaN             10-May                         0.0                          NaN            1       INDIVIDUAL               NaN        NaN                        NaN               0           NaN          NaN          NaN         NaN   \n",
            "...       ...        ...        ...          ...              ...         ...      ...          ...   ...       ...                      ...        ...            ...         ...                 ...     ...          ...        ...                                                ...                                                ...                 ...                           ...      ...        ...    ...          ...              ...             ...                     ...                     ...       ...      ...        ...        ...        ...                 ...        ...            ...           ...              ...              ...            ...                 ...         ...                      ...          ...              ...          ...                ...                         ...                          ...          ...              ...               ...        ...                        ...             ...           ...          ...          ...         ...   \n",
            "24994  450579     554340       5500         5500       5500.00000   36 months   14.96%       190.55     D        D2                     PPDG    7 years       MORTGAGE     52000.0        Not Verified   9-Oct            1          n  https://lendingclub.com/browse/loanDetail.acti...   554340 added on 10/10/09 > TRY TO PAY OFF ALL...  debt_consolidation                       FREEDOM    320xx         FL  18.74            0           Aug-98               2                     NaN                     NaN        11        0      10655     58.20%         37                   f        0.0            0.0   6825.066783          6825.07          5500.00        1325.07                 0.0        0.00                     0.00       12-May          1122.20          NaN             12-Jun                         0.0                          NaN            1       INDIVIDUAL               NaN        NaN                        NaN               0           NaN          NaN          NaN         NaN   \n",
            "24995  788033     991661      11450        11450      11450.00000   36 months    8.49%       361.40     A        A5           PPG Industries    7 years           RENT     40000.0     Source Verified  11-Jun            1          n  https://lendingclub.com/browse/loanDetail.acti...    Borrower added on 06/18/11 > I've been at my...  debt_consolidation     Credit Card Consolidation    980xx         WA  21.21            0            4-Jan               0                     NaN                     NaN        10        0      10192        34%         15                   f        0.0            0.0  13010.206030         13010.21         11450.00        1560.21                 0.0        0.00                     0.00       14-Jul           382.90          NaN             16-May                         0.0                          NaN            1       INDIVIDUAL               NaN        NaN                        NaN               0           NaN          NaN          NaN         NaN   \n",
            "24996  568459     731299      24000        24000      21100.31424   60 months   20.53%       642.96     G        G2           PPG Industries  10+ years       MORTGAGE     74454.0            Verified  10-Aug            1          n  https://lendingclub.com/browse/loanDetail.acti...    Borrower added on 08/21/10 > Consolidating a...  debt_consolidation                       C3myboy    301xx         GA  19.95            0           Jun-98               3                     NaN                     NaN         9        0      29108     77.20%         24                   f        0.0            0.0  33765.068310         26978.96         24000.00        9765.07                 0.0        0.00                     0.00       13-Jan         16500.39          NaN             16-May                         0.0                          NaN            1       INDIVIDUAL               NaN        NaN                        NaN               0           NaN          NaN          NaN         NaN   \n",
            "24997  397594     428786      14000        14000      11411.12089   36 months   17.58%       503.19     F        F2           PPG Industries  10+ years       MORTGAGE     86000.0            Verified   9-May            1          n  https://lendingclub.com/browse/loanDetail.acti...  I'm looking to consolidate high intrest loans ...  debt_consolidation        consolidation loan 001    440xx         OH  21.93            0           Jul-99               0                     NaN                   101.0        13        1      18991        95%         26                   f        0.0            0.0  17917.012900         14191.06         14000.00        3917.01                 0.0        0.00                     0.00       11-Oct          3857.88          NaN             15-Jun                         0.0                          NaN            1       INDIVIDUAL               NaN        NaN                        NaN               0           NaN          NaN          NaN         NaN   \n",
            "24998  660367     844601      13400        13400      13400.00000   36 months   13.06%       451.89     C        C2      PPG Industries, INC   < 1 year           RENT     62040.0        Not Verified  11-Jan            1          n  https://lendingclub.com/browse/loanDetail.acti...    Borrower added on 01/26/11 > I plan to use t...  debt_consolidation           Refinance Debt Loan    706xx         LA  18.84            0           Sep-00               3                     NaN                     NaN        12        0       5389     41.80%         14                   f        0.0            0.0  16268.440550         16268.44         13400.00        2868.44                 0.0        0.00                     0.00       14-Feb           475.29          NaN             14-Feb                         0.0                          NaN            1       INDIVIDUAL               NaN        NaN                        NaN               0           NaN          NaN          NaN         NaN   \n",
            "\n",
            "       open_il_12m  open_il_24m  mths_since_rcnt_il  total_bal_il  il_util  open_rv_12m  open_rv_24m  max_bal_bc  all_util  total_rev_hi_lim  inq_fi  total_cu_tl  inq_last_12m  acc_open_past_24mths  avg_cur_bal  bc_open_to_buy  bc_util  chargeoff_within_12_mths  delinq_amnt  mo_sin_old_il_acct  mo_sin_old_rev_tl_op  mo_sin_rcnt_rev_tl_op  mo_sin_rcnt_tl  mort_acc  mths_since_recent_bc  mths_since_recent_bc_dlq  mths_since_recent_inq  mths_since_recent_revol_delinq  num_accts_ever_120_pd  num_actv_bc_tl  num_actv_rev_tl  num_bc_sats  num_bc_tl  num_il_tl  num_op_rev_tl  num_rev_accts  num_rev_tl_bal_gt_0  num_sats  num_tl_120dpd_2m  num_tl_30dpd  num_tl_90g_dpd_24m  num_tl_op_past_12m  pct_tl_nvr_dlq  percent_bc_gt_75  pub_rec_bankruptcies  tax_liens  tot_hi_cred_lim  total_bal_ex_mort  total_bc_limit  total_il_high_credit_limit  \n",
            "0              NaN          NaN                 NaN           NaN      NaN          NaN          NaN         NaN       NaN               NaN     NaN          NaN           NaN                   NaN          NaN             NaN      NaN                       0.0            0                 NaN                   NaN                    NaN             NaN       NaN                   NaN                       NaN                    NaN                             NaN                    NaN             NaN              NaN          NaN        NaN        NaN            NaN            NaN                  NaN       NaN               NaN           NaN                 NaN                 NaN             NaN               NaN                   0.0        0.0              NaN                NaN             NaN                         NaN  \n",
            "1              NaN          NaN                 NaN           NaN      NaN          NaN          NaN         NaN       NaN               NaN     NaN          NaN           NaN                   NaN          NaN             NaN      NaN                       0.0            0                 NaN                   NaN                    NaN             NaN       NaN                   NaN                       NaN                    NaN                             NaN                    NaN             NaN              NaN          NaN        NaN        NaN            NaN            NaN                  NaN       NaN               NaN           NaN                 NaN                 NaN             NaN               NaN                   0.0        0.0              NaN                NaN             NaN                         NaN  \n",
            "2              NaN          NaN                 NaN           NaN      NaN          NaN          NaN         NaN       NaN               NaN     NaN          NaN           NaN                   NaN          NaN             NaN      NaN                       0.0            0                 NaN                   NaN                    NaN             NaN       NaN                   NaN                       NaN                    NaN                             NaN                    NaN             NaN              NaN          NaN        NaN        NaN            NaN            NaN                  NaN       NaN               NaN           NaN                 NaN                 NaN             NaN               NaN                   0.0        0.0              NaN                NaN             NaN                         NaN  \n",
            "4              NaN          NaN                 NaN           NaN      NaN          NaN          NaN         NaN       NaN               NaN     NaN          NaN           NaN                   NaN          NaN             NaN      NaN                       0.0            0                 NaN                   NaN                    NaN             NaN       NaN                   NaN                       NaN                    NaN                             NaN                    NaN             NaN              NaN          NaN        NaN        NaN            NaN            NaN                  NaN       NaN               NaN           NaN                 NaN                 NaN             NaN               NaN                   0.0        0.0              NaN                NaN             NaN                         NaN  \n",
            "5              NaN          NaN                 NaN           NaN      NaN          NaN          NaN         NaN       NaN               NaN     NaN          NaN           NaN                   NaN          NaN             NaN      NaN                       0.0            0                 NaN                   NaN                    NaN             NaN       NaN                   NaN                       NaN                    NaN                             NaN                    NaN             NaN              NaN          NaN        NaN        NaN            NaN            NaN                  NaN       NaN               NaN           NaN                 NaN                 NaN             NaN               NaN                   0.0        0.0              NaN                NaN             NaN                         NaN  \n",
            "...            ...          ...                 ...           ...      ...          ...          ...         ...       ...               ...     ...          ...           ...                   ...          ...             ...      ...                       ...          ...                 ...                   ...                    ...             ...       ...                   ...                       ...                    ...                             ...                    ...             ...              ...          ...        ...        ...            ...            ...                  ...       ...               ...           ...                 ...                 ...             ...               ...                   ...        ...              ...                ...             ...                         ...  \n",
            "24994          NaN          NaN                 NaN           NaN      NaN          NaN          NaN         NaN       NaN               NaN     NaN          NaN           NaN                   NaN          NaN             NaN      NaN                       0.0            0                 NaN                   NaN                    NaN             NaN       NaN                   NaN                       NaN                    NaN                             NaN                    NaN             NaN              NaN          NaN        NaN        NaN            NaN            NaN                  NaN       NaN               NaN           NaN                 NaN                 NaN             NaN               NaN                   0.0        0.0              NaN                NaN             NaN                         NaN  \n",
            "24995          NaN          NaN                 NaN           NaN      NaN          NaN          NaN         NaN       NaN               NaN     NaN          NaN           NaN                   NaN          NaN             NaN      NaN                       0.0            0                 NaN                   NaN                    NaN             NaN       NaN                   NaN                       NaN                    NaN                             NaN                    NaN             NaN              NaN          NaN        NaN        NaN            NaN            NaN                  NaN       NaN               NaN           NaN                 NaN                 NaN             NaN               NaN                   0.0        0.0              NaN                NaN             NaN                         NaN  \n",
            "24996          NaN          NaN                 NaN           NaN      NaN          NaN          NaN         NaN       NaN               NaN     NaN          NaN           NaN                   NaN          NaN             NaN      NaN                       0.0            0                 NaN                   NaN                    NaN             NaN       NaN                   NaN                       NaN                    NaN                             NaN                    NaN             NaN              NaN          NaN        NaN        NaN            NaN            NaN                  NaN       NaN               NaN           NaN                 NaN                 NaN             NaN               NaN                   0.0        0.0              NaN                NaN             NaN                         NaN  \n",
            "24997          NaN          NaN                 NaN           NaN      NaN          NaN          NaN         NaN       NaN               NaN     NaN          NaN           NaN                   NaN          NaN             NaN      NaN                       0.0            0                 NaN                   NaN                    NaN             NaN       NaN                   NaN                       NaN                    NaN                             NaN                    NaN             NaN              NaN          NaN        NaN        NaN            NaN            NaN                  NaN       NaN               NaN           NaN                 NaN                 NaN             NaN               NaN                   1.0        0.0              NaN                NaN             NaN                         NaN  \n",
            "24998          NaN          NaN                 NaN           NaN      NaN          NaN          NaN         NaN       NaN               NaN     NaN          NaN           NaN                   NaN          NaN             NaN      NaN                       0.0            0                 NaN                   NaN                    NaN             NaN       NaN                   NaN                       NaN                    NaN                             NaN                    NaN             NaN              NaN          NaN        NaN        NaN            NaN            NaN                  NaN       NaN               NaN           NaN                 NaN                 NaN             NaN               NaN                   0.0        0.0              NaN                NaN             NaN                         NaN  \n",
            "\n",
            "[24301 rows x 111 columns]\n",
            "\n",
            "             id  member_id  loan_amnt  funded_amnt  funded_amnt_inv        term int_rate  installment grade sub_grade                emp_title emp_length home_ownership  annual_inc verification_status issue_d  loan_status pymnt_plan                                                url                                               desc             purpose                            title zip_code addr_state    dti  delinq_2yrs earliest_cr_line  inq_last_6mths  mths_since_last_delinq  mths_since_last_record  open_acc  pub_rec  revol_bal revol_util  total_acc initial_list_status  out_prncp  out_prncp_inv   total_pymnt  total_pymnt_inv  total_rec_prncp  total_rec_int  total_rec_late_fee  recoveries  collection_recovery_fee last_pymnt_d  last_pymnt_amnt next_pymnt_d last_credit_pull_d  collections_12_mths_ex_med  mths_since_last_major_derog  policy_code application_type  annual_inc_joint  dti_joint  verification_status_joint  acc_now_delinq  tot_coll_amt  tot_cur_bal  open_acc_6m  \\\n",
            "0      1001205    1227186       4200         4200           4200.0   36 months    6.62%       128.96     A        A2     PPG Industries, Inc.    6 years           RENT     69000.0        Not Verified  11-Nov            1          n  https://lendingclub.com/browse/loanDetail.acti...                                                NaN                 car      Loan to buy 2nd alt vehicle    152xx         PA  11.08            0            1-Oct               0                     NaN                     NaN        10        0       4544     11.60%         15                   f        0.0            0.0   4642.374867          4642.37          4200.00         442.37             0.00000         0.0                    0.000       14-Nov           132.82          NaN             16-May                         0.0                          NaN            1       INDIVIDUAL               NaN        NaN                        NaN               0           NaN          NaN          NaN   \n",
            "1       850106    1061893       1325         1325           1325.0   36 months   13.49%        44.96     C        C2  PPI Technology Services   < 1 year           RENT     24000.0     Source Verified  11-Aug           -1          n  https://lendingclub.com/browse/loanDetail.acti...    Borrower added on 08/12/11 > I am trying to ...              moving                       Relocation    705xx         LA   3.80            0           Sep-00               0                    24.0                     NaN         3        0       2158     11.90%          3                   f        0.0            0.0   1476.640000          1476.64          1145.61         287.60            14.93661        28.5                    0.285       14-May            44.96          NaN             14-Sep                         0.0                          NaN            1       INDIVIDUAL               NaN        NaN                        NaN               0           NaN          NaN          NaN   \n",
            "2       444243     541365      10000        10000           9975.0   36 months    8.94%       317.72     A        A5          PPL Corporation    4 years       MORTGAGE     75000.0        Not Verified   9-Sep            1          n  https://lendingclub.com/browse/loanDetail.acti...  I'm tired of paying credit card companies! I'm...  debt_consolidation  Getting rid of credit card debt    181xx         PA  12.64            0           Apr-95               1                     NaN                     NaN        10        0      36161     46.40%         45                   f        0.0            0.0  10287.347790         10261.63         10000.00         287.35             0.00000         0.0                    0.000       10-Feb          9337.10          NaN             16-May                         0.0                          NaN            1       INDIVIDUAL               NaN        NaN                        NaN               0           NaN          NaN          NaN   \n",
            "3       741007     938805       6000         6000           6000.0   60 months   16.49%       147.48     D        D3                   ppl eu  10+ years           RENT     60000.0     Source Verified  11-May            1          n  https://lendingclub.com/browse/loanDetail.acti...                                                NaN  debt_consolidation                              yay    187xx         PA  13.06            0            1-Mar               0                    75.0                     NaN        20        0      13961     60.20%         24                   f        0.0            0.0   8848.343924          8848.34          6000.00        2848.34             0.00000         0.0                    0.000       16-May           147.02          NaN             16-May                         0.0                          NaN            1       INDIVIDUAL               NaN        NaN                        NaN               0           NaN          NaN          NaN   \n",
            "4       572468     736352      25000        25000          25000.0   36 months   15.21%       869.21     D        D2                     PPMM    4 years           RENT    135000.0     Source Verified  10-Sep            1          n  https://lendingclub.com/browse/loanDetail.acti...                                                NaN  debt_consolidation          Debt Consolidation Loan    950xx         CA  15.49            0           Jul-98               2                     NaN                     NaN        20        0      21090     55.70%         44                   f        0.0            0.0  31293.587380         31293.59         25000.00        6293.59             0.00000         0.0                    0.000       13-Sep           960.31          NaN             16-May                         0.0                          NaN            1       INDIVIDUAL               NaN        NaN                        NaN               0           NaN          NaN          NaN   \n",
            "...        ...        ...        ...          ...              ...         ...      ...          ...   ...       ...                      ...        ...            ...         ...                 ...     ...          ...        ...                                                ...                                                ...                 ...                              ...      ...        ...    ...          ...              ...             ...                     ...                     ...       ...      ...        ...        ...        ...                 ...        ...            ...           ...              ...              ...            ...                 ...         ...                      ...          ...              ...          ...                ...                         ...                          ...          ...              ...               ...        ...                        ...             ...           ...          ...          ...   \n",
            "14713    98276      98268       5400         5400            200.0   36 months    7.75%       168.60     A        A3                      NaN   < 1 year           RENT      8000.0        Not Verified   7-Jul            1          n  https://lendingclub.com/browse/loanDetail.acti...  The main purpose of this loan is for college e...         educational       Help with college expenses    306xx         GA   3.00            0           Mar-89               0                     0.0                     0.0         4        0       1321     16.50%          4                   f        0.0            0.0   6069.341452           224.80          5400.00         669.34             0.00000         0.0                    0.000       10-Jul           169.09          NaN             13-Dec                         NaN                          NaN            1       INDIVIDUAL               NaN        NaN                        NaN               0           NaN          NaN          NaN   \n",
            "14714    93277      93254       3000         3000            950.0   36 months    8.70%        94.98     B        B1                      NaN   < 1 year       MORTGAGE     25000.0        Not Verified   7-Jul            1          n  https://lendingclub.com/browse/loanDetail.acti...  I started baking rolls and breads for family a...      small_business                Home Based Bakery    017xx         MA  14.54            0           Sep-00               1                     0.0                     0.0        10        0       3660      7.80%         13                   f        0.0            0.0   3419.144850          1082.73          3000.00         419.14             0.00000         0.0                    0.000       10-Jul            97.45          NaN             10-Jul                         NaN                          NaN            1       INDIVIDUAL               NaN        NaN                        NaN               0           NaN          NaN          NaN   \n",
            "14715    92676      92671       5000         5000            150.0   36 months    8.07%       156.84     A        A4                      NaN   < 1 year       MORTGAGE    180000.0        Not Verified   7-Jul            1          n  https://lendingclub.com/browse/loanDetail.acti...                  Need a loan to remodel my kitchen    home_improvement             remodelin my kitchen    530xx         WI   5.55            0           Jun-96               0                     0.0                     0.0        12        0      40934     26.30%         39                   f        0.0            0.0   5645.957239           169.38          5000.00         645.96             0.00000         0.0                    0.000       10-Jul           157.31          NaN              7-Jun                         NaN                          NaN            1       INDIVIDUAL               NaN        NaN                        NaN               0           NaN          NaN          NaN   \n",
            "14716    90395      90390       5000         5000           1325.0   36 months    8.07%       156.84     A        A4                      NaN   < 1 year       MORTGAGE    100000.0        Not Verified   7-Jul            1          n  https://lendingclub.com/browse/loanDetail.acti...                                                NaN  debt_consolidation           MBA Loan Consolidation    017xx         MA   2.30            0           Oct-98               0                     0.0                     0.0        11        0       9698     19.40%         20                   f        0.0            0.0   5272.161128          1397.12          5000.00         272.16             0.00000         0.0                    0.000        8-Apr             0.00          NaN              7-Jun                         NaN                          NaN            1       INDIVIDUAL               NaN        NaN                        NaN               0           NaN          NaN          NaN   \n",
            "14717    90376      89243       5000         5000            650.0   36 months    7.43%       155.38     A        A2                      NaN   < 1 year       MORTGAGE    200000.0        Not Verified   7-Jul            1          n  https://lendingclub.com/browse/loanDetail.acti...                                                NaN               other                         JAL Loan    208xx         MD   3.72            0           Nov-88               0                     0.0                     0.0        17        0      85607      0.70%         26                   f        0.0            0.0   5174.198551           672.66          5000.00         174.20             0.00000         0.0                    0.000        8-Jan             0.00          NaN              7-Jun                         NaN                          NaN            1       INDIVIDUAL               NaN        NaN                        NaN               0           NaN          NaN          NaN   \n",
            "\n",
            "       open_il_6m  open_il_12m  open_il_24m  mths_since_rcnt_il  total_bal_il  il_util  open_rv_12m  open_rv_24m  max_bal_bc  all_util  total_rev_hi_lim  inq_fi  total_cu_tl  inq_last_12m  acc_open_past_24mths  avg_cur_bal  bc_open_to_buy  bc_util  chargeoff_within_12_mths  delinq_amnt  mo_sin_old_il_acct  mo_sin_old_rev_tl_op  mo_sin_rcnt_rev_tl_op  mo_sin_rcnt_tl  mort_acc  mths_since_recent_bc  mths_since_recent_bc_dlq  mths_since_recent_inq  mths_since_recent_revol_delinq  num_accts_ever_120_pd  num_actv_bc_tl  num_actv_rev_tl  num_bc_sats  num_bc_tl  num_il_tl  num_op_rev_tl  num_rev_accts  num_rev_tl_bal_gt_0  num_sats  num_tl_120dpd_2m  num_tl_30dpd  num_tl_90g_dpd_24m  num_tl_op_past_12m  pct_tl_nvr_dlq  percent_bc_gt_75  pub_rec_bankruptcies  tax_liens  tot_hi_cred_lim  total_bal_ex_mort  total_bc_limit  total_il_high_credit_limit  \n",
            "0             NaN          NaN          NaN                 NaN           NaN      NaN          NaN          NaN         NaN       NaN               NaN     NaN          NaN           NaN                   NaN          NaN             NaN      NaN                       0.0            0                 NaN                   NaN                    NaN             NaN       NaN                   NaN                       NaN                    NaN                             NaN                    NaN             NaN              NaN          NaN        NaN        NaN            NaN            NaN                  NaN       NaN               NaN           NaN                 NaN                 NaN             NaN               NaN                   0.0        0.0              NaN                NaN             NaN                         NaN  \n",
            "1             NaN          NaN          NaN                 NaN           NaN      NaN          NaN          NaN         NaN       NaN               NaN     NaN          NaN           NaN                   NaN          NaN             NaN      NaN                       0.0            0                 NaN                   NaN                    NaN             NaN       NaN                   NaN                       NaN                    NaN                             NaN                    NaN             NaN              NaN          NaN        NaN        NaN            NaN            NaN                  NaN       NaN               NaN           NaN                 NaN                 NaN             NaN               NaN                   0.0        0.0              NaN                NaN             NaN                         NaN  \n",
            "2             NaN          NaN          NaN                 NaN           NaN      NaN          NaN          NaN         NaN       NaN               NaN     NaN          NaN           NaN                   NaN          NaN             NaN      NaN                       0.0            0                 NaN                   NaN                    NaN             NaN       NaN                   NaN                       NaN                    NaN                             NaN                    NaN             NaN              NaN          NaN        NaN        NaN            NaN            NaN                  NaN       NaN               NaN           NaN                 NaN                 NaN             NaN               NaN                   0.0        0.0              NaN                NaN             NaN                         NaN  \n",
            "3             NaN          NaN          NaN                 NaN           NaN      NaN          NaN          NaN         NaN       NaN               NaN     NaN          NaN           NaN                   NaN          NaN             NaN      NaN                       0.0            0                 NaN                   NaN                    NaN             NaN       NaN                   NaN                       NaN                    NaN                             NaN                    NaN             NaN              NaN          NaN        NaN        NaN            NaN            NaN                  NaN       NaN               NaN           NaN                 NaN                 NaN             NaN               NaN                   0.0        0.0              NaN                NaN             NaN                         NaN  \n",
            "4             NaN          NaN          NaN                 NaN           NaN      NaN          NaN          NaN         NaN       NaN               NaN     NaN          NaN           NaN                   NaN          NaN             NaN      NaN                       0.0            0                 NaN                   NaN                    NaN             NaN       NaN                   NaN                       NaN                    NaN                             NaN                    NaN             NaN              NaN          NaN        NaN        NaN            NaN            NaN                  NaN       NaN               NaN           NaN                 NaN                 NaN             NaN               NaN                   0.0        0.0              NaN                NaN             NaN                         NaN  \n",
            "...           ...          ...          ...                 ...           ...      ...          ...          ...         ...       ...               ...     ...          ...           ...                   ...          ...             ...      ...                       ...          ...                 ...                   ...                    ...             ...       ...                   ...                       ...                    ...                             ...                    ...             ...              ...          ...        ...        ...            ...            ...                  ...       ...               ...           ...                 ...                 ...             ...               ...                   ...        ...              ...                ...             ...                         ...  \n",
            "14713         NaN          NaN          NaN                 NaN           NaN      NaN          NaN          NaN         NaN       NaN               NaN     NaN          NaN           NaN                   NaN          NaN             NaN      NaN                       NaN            0                 NaN                   NaN                    NaN             NaN       NaN                   NaN                       NaN                    NaN                             NaN                    NaN             NaN              NaN          NaN        NaN        NaN            NaN            NaN                  NaN       NaN               NaN           NaN                 NaN                 NaN             NaN               NaN                   NaN        NaN              NaN                NaN             NaN                         NaN  \n",
            "14714         NaN          NaN          NaN                 NaN           NaN      NaN          NaN          NaN         NaN       NaN               NaN     NaN          NaN           NaN                   NaN          NaN             NaN      NaN                       NaN            0                 NaN                   NaN                    NaN             NaN       NaN                   NaN                       NaN                    NaN                             NaN                    NaN             NaN              NaN          NaN        NaN        NaN            NaN            NaN                  NaN       NaN               NaN           NaN                 NaN                 NaN             NaN               NaN                   NaN        NaN              NaN                NaN             NaN                         NaN  \n",
            "14715         NaN          NaN          NaN                 NaN           NaN      NaN          NaN          NaN         NaN       NaN               NaN     NaN          NaN           NaN                   NaN          NaN             NaN      NaN                       NaN            0                 NaN                   NaN                    NaN             NaN       NaN                   NaN                       NaN                    NaN                             NaN                    NaN             NaN              NaN          NaN        NaN        NaN            NaN            NaN                  NaN       NaN               NaN           NaN                 NaN                 NaN             NaN               NaN                   NaN        NaN              NaN                NaN             NaN                         NaN  \n",
            "14716         NaN          NaN          NaN                 NaN           NaN      NaN          NaN          NaN         NaN       NaN               NaN     NaN          NaN           NaN                   NaN          NaN             NaN      NaN                       NaN            0                 NaN                   NaN                    NaN             NaN       NaN                   NaN                       NaN                    NaN                             NaN                    NaN             NaN              NaN          NaN        NaN        NaN            NaN            NaN                  NaN       NaN               NaN           NaN                 NaN                 NaN             NaN               NaN                   NaN        NaN              NaN                NaN             NaN                         NaN  \n",
            "14717         NaN          NaN          NaN                 NaN           NaN      NaN          NaN          NaN         NaN       NaN               NaN     NaN          NaN           NaN                   NaN          NaN             NaN      NaN                       NaN            0                 NaN                   NaN                    NaN             NaN       NaN                   NaN                       NaN                    NaN                             NaN                    NaN             NaN              NaN          NaN        NaN        NaN            NaN            NaN                  NaN       NaN               NaN           NaN                 NaN                 NaN             NaN               NaN                   NaN        NaN              NaN                NaN             NaN                         NaN  \n",
            "\n",
            "[14276 rows x 111 columns]\n"
          ]
        }
      ]
    },
    {
      "cell_type": "markdown",
      "metadata": {
        "id": "YPdC_Vd3WhVF"
      },
      "source": [
        "# Data pre-processing"
      ]
    },
    {
      "cell_type": "markdown",
      "metadata": {
        "id": "XKMKKlcaWn5p"
      },
      "source": [
        "## Handling missing values"
      ]
    },
    {
      "cell_type": "code",
      "metadata": {
        "colab": {
          "base_uri": "https://localhost:8080/"
        },
        "id": "IFPTMzirWl4g",
        "outputId": "95acbb70-f343-4533-ff59-3fddae1052cb"
      },
      "source": [
        "# Number of missing values in each column of training data\n",
        "missing_val_count_by_column = (loan_train_dataset.isnull().sum())\n",
        "columns_with_large_no_of_missing_values = missing_val_count_by_column[missing_val_count_by_column > 15000].index\n",
        "print(\"\\nNo of columns having more than 15000 Null values in training dataset: \", len(columns_with_large_no_of_missing_values))\n",
        "\n",
        "# Drop the columns having more than 15000 NULL values\n",
        "loan_train_dataset = loan_train_dataset.drop(columns_with_large_no_of_missing_values, axis=1)\n",
        "loan_test_dataset = loan_test_dataset.drop(columns_with_large_no_of_missing_values, axis=1)\n",
        "\n",
        "print(\"\\nAfter removing columns having more than 15000 NULL values : \", loan_train_dataset.shape, loan_test_dataset.shape)\n",
        "\n",
        "# Dropping \"emp_title\", \"desc\" column as it has some missing value and it's irrelivent for prediction\n",
        "loan_train_dataset = loan_train_dataset.drop([\"emp_title\", \"desc\"], axis=1)\n",
        "loan_test_dataset = loan_test_dataset.drop([\"emp_title\", \"desc\"], axis=1)\n",
        "\n",
        "# For rest of the columns which have missing values, are mostly less than 1% of data, so removing those rows\n",
        "missing_val_count_by_column = (loan_train_dataset.isnull().sum())\n",
        "loan_train_dataset = loan_train_dataset.dropna(axis=0, subset = missing_val_count_by_column[missing_val_count_by_column > 0].index)\n",
        "missing_val_count_by_column = (loan_test_dataset.isnull().sum())\n",
        "loan_test_dataset = loan_test_dataset.dropna(axis=0, subset = missing_val_count_by_column[missing_val_count_by_column > 0].index)\n",
        "\n",
        "print(\"\\nFinal shape for training and test data after handling missing values: \", loan_train_dataset.shape, loan_test_dataset.shape)\n"
      ],
      "execution_count": null,
      "outputs": [
        {
          "output_type": "stream",
          "name": "stdout",
          "text": [
            "\n",
            "No of columns having more than 15000 Null values in training dataset:  57\n",
            "\n",
            "After removing columns having more than 15000 NULL values :  (24301, 54) (14276, 54)\n",
            "\n",
            "Final shape for training and test data after handling missing values:  (23763, 52) (12962, 52)\n"
          ]
        }
      ]
    },
    {
      "cell_type": "markdown",
      "metadata": {
        "id": "jG_lP2D_OGRc"
      },
      "source": [
        "## Remove unnecessary attributes"
      ]
    },
    {
      "cell_type": "code",
      "metadata": {
        "colab": {
          "base_uri": "https://localhost:8080/"
        },
        "id": "tuqz77CQ98aD",
        "outputId": "dec1b165-6f2d-4db5-a754-d9327c89141d"
      },
      "source": [
        "# Not needed: member_id, issue_d(date), pymnt_plan(all \"n\"), url, earliest_cr_line(date), initial_list_status(all \"f\"),\n",
        "# last_pymnt_d(date), last_credit_pull_d(date), application_type(all \"INDIVIDUAL\"), id, collections_12_mths_ex_med(all \"0.0\"), \n",
        "# policy_code(all \"1\"), acc_now_delinq(all \"0\"), chargeoff_within_12_mths(all \"0.0\"), delinq_amnt(all \"0\"), tax_liens(all \"0.0\"),\n",
        "# out_prncp(all \"0.0\"), out_prncp_inv(all \"0.0\")\n",
        "\n",
        "print(loan_train_dataset.head)\n",
        "columns_to_be_dropped = [\"member_id\", \"issue_d\", \"pymnt_plan\", \"url\", \"earliest_cr_line\", \"initial_list_status\", \"last_pymnt_d\",\\\n",
        "                         \"last_credit_pull_d\", \"application_type\", \"id\", \"collections_12_mths_ex_med\", \"policy_code\",\\\n",
        "                         \"acc_now_delinq\", \"chargeoff_within_12_mths\", \"delinq_amnt\", \"tax_liens\", \"out_prncp\", \"out_prncp_inv\"]\n",
        "loan_train_dataset = loan_train_dataset.drop(columns_to_be_dropped, axis = 1)\n",
        "loan_test_dataset = loan_test_dataset.drop(columns_to_be_dropped, axis = 1)\n",
        "\n",
        "print(\"\\nShape of training and test data after dropping unnecessary columns: \", loan_train_dataset.shape, loan_test_dataset.shape)\n",
        "print(\"\\n\", loan_train_dataset.head)"
      ],
      "execution_count": null,
      "outputs": [
        {
          "output_type": "stream",
          "name": "stdout",
          "text": [
            "<bound method NDFrame.head of            id  member_id  loan_amnt  funded_amnt  funded_amnt_inv        term int_rate  installment grade sub_grade emp_length home_ownership  annual_inc verification_status issue_d  loan_status pymnt_plan                                                url             purpose                         title zip_code addr_state    dti  delinq_2yrs earliest_cr_line  inq_last_6mths  open_acc  pub_rec  revol_bal revol_util  total_acc initial_list_status  out_prncp  out_prncp_inv   total_pymnt  total_pymnt_inv  total_rec_prncp  total_rec_int  total_rec_late_fee  recoveries  collection_recovery_fee last_pymnt_d  last_pymnt_amnt last_credit_pull_d  collections_12_mths_ex_med  policy_code application_type  acc_now_delinq  chargeoff_within_12_mths  delinq_amnt  pub_rec_bankruptcies  tax_liens\n",
            "0      573354     737474      10000        10000       9950.00000   36 months    7.51%       311.11     A        A4  10+ years           RENT     30000.0     Source Verified  10-Sep           -1          n  https://lendingclub.com/browse/loanDetail.acti...    home_improvement                homeimproement    076xx         NJ   5.00            0            1-Feb               3        19        0       1450      1.20%         48                   f        0.0            0.0   2247.210000          2235.98          1509.91         350.87                 0.0      386.43                     3.96       11-Mar           311.11             11-Jul                         0.0            1       INDIVIDUAL               0                       0.0            0                   0.0        0.0\n",
            "1      476321     603324      15000        15000      14800.00000   36 months    8.94%       476.58     A        A5     1 year           RENT    147000.0        Not Verified  10-Jan            1          n  https://lendingclub.com/browse/loanDetail.acti...               other                    Green City    300xx         GA   3.47            0           Feb-97               0         6        0       4910        14%         17                   f        0.0            0.0  15112.760000         14911.26         15000.00         112.76                 0.0        0.00                     0.00       10-Mar         15114.03             10-Feb                         0.0            1       INDIVIDUAL               0                       0.0            0                   0.0        0.0\n",
            "2      451484     556265       2000         2000       2000.00000   36 months   13.57%        67.94     C        C3    4 years            OWN     36000.0        Not Verified   9-Oct            1          n  https://lendingclub.com/browse/loanDetail.acti...      major_purchase           payoff w/in 2 years    310xx         GA   7.83            0           Mar-00               0         8        0       1790     34.40%         10                   f        0.0            0.0   2354.966827          2354.97          2000.00         354.97                 0.0        0.00                     0.00       11-Dec           101.78             11-Dec                         0.0            1       INDIVIDUAL               0                       0.0            0                   0.0        0.0\n",
            "4      800018    1005270      14000        14000      14000.00000   60 months   17.49%       351.64     D        D5    5 years       MORTGAGE     50000.0        Not Verified  11-Jul            1          n  https://lendingclub.com/browse/loanDetail.acti...  debt_consolidation                        save %    334xx         FL  21.24            1            4-Jun               1         9        1        553      9.40%         27                   f        0.0            0.0  20804.230020         20804.23         14000.00        6804.23                 0.0        0.00                     0.00       15-Sep          3943.27             16-May                         0.0            1       INDIVIDUAL               0                       0.0            0                   0.0        0.0\n",
            "5      471391     595223      12000        12000      11900.00000   36 months    8.94%       381.26     A        A5    7 years       MORTGAGE    294000.0        Not Verified   9-Dec            1          n  https://lendingclub.com/browse/loanDetail.acti...               other  Invest in Lending Club Notes    939xx         CA   0.50            0           Aug-93               0        11        0       5306      2.80%         21                   f        0.0            0.0  12344.811770         12241.94         12000.00         344.81                 0.0        0.00                     0.00       10-May         11204.30             10-May                         0.0            1       INDIVIDUAL               0                       0.0            0                   0.0        0.0\n",
            "...       ...        ...        ...          ...              ...         ...      ...          ...   ...       ...        ...            ...         ...                 ...     ...          ...        ...                                                ...                 ...                           ...      ...        ...    ...          ...              ...             ...       ...      ...        ...        ...        ...                 ...        ...            ...           ...              ...              ...            ...                 ...         ...                      ...          ...              ...                ...                         ...          ...              ...             ...                       ...          ...                   ...        ...\n",
            "24994  450579     554340       5500         5500       5500.00000   36 months   14.96%       190.55     D        D2    7 years       MORTGAGE     52000.0        Not Verified   9-Oct            1          n  https://lendingclub.com/browse/loanDetail.acti...  debt_consolidation                       FREEDOM    320xx         FL  18.74            0           Aug-98               2        11        0      10655     58.20%         37                   f        0.0            0.0   6825.066783          6825.07          5500.00        1325.07                 0.0        0.00                     0.00       12-May          1122.20             12-Jun                         0.0            1       INDIVIDUAL               0                       0.0            0                   0.0        0.0\n",
            "24995  788033     991661      11450        11450      11450.00000   36 months    8.49%       361.40     A        A5    7 years           RENT     40000.0     Source Verified  11-Jun            1          n  https://lendingclub.com/browse/loanDetail.acti...  debt_consolidation     Credit Card Consolidation    980xx         WA  21.21            0            4-Jan               0        10        0      10192        34%         15                   f        0.0            0.0  13010.206030         13010.21         11450.00        1560.21                 0.0        0.00                     0.00       14-Jul           382.90             16-May                         0.0            1       INDIVIDUAL               0                       0.0            0                   0.0        0.0\n",
            "24996  568459     731299      24000        24000      21100.31424   60 months   20.53%       642.96     G        G2  10+ years       MORTGAGE     74454.0            Verified  10-Aug            1          n  https://lendingclub.com/browse/loanDetail.acti...  debt_consolidation                       C3myboy    301xx         GA  19.95            0           Jun-98               3         9        0      29108     77.20%         24                   f        0.0            0.0  33765.068310         26978.96         24000.00        9765.07                 0.0        0.00                     0.00       13-Jan         16500.39             16-May                         0.0            1       INDIVIDUAL               0                       0.0            0                   0.0        0.0\n",
            "24997  397594     428786      14000        14000      11411.12089   36 months   17.58%       503.19     F        F2  10+ years       MORTGAGE     86000.0            Verified   9-May            1          n  https://lendingclub.com/browse/loanDetail.acti...  debt_consolidation        consolidation loan 001    440xx         OH  21.93            0           Jul-99               0        13        1      18991        95%         26                   f        0.0            0.0  17917.012900         14191.06         14000.00        3917.01                 0.0        0.00                     0.00       11-Oct          3857.88             15-Jun                         0.0            1       INDIVIDUAL               0                       0.0            0                   1.0        0.0\n",
            "24998  660367     844601      13400        13400      13400.00000   36 months   13.06%       451.89     C        C2   < 1 year           RENT     62040.0        Not Verified  11-Jan            1          n  https://lendingclub.com/browse/loanDetail.acti...  debt_consolidation           Refinance Debt Loan    706xx         LA  18.84            0           Sep-00               3        12        0       5389     41.80%         14                   f        0.0            0.0  16268.440550         16268.44         13400.00        2868.44                 0.0        0.00                     0.00       14-Feb           475.29             14-Feb                         0.0            1       INDIVIDUAL               0                       0.0            0                   0.0        0.0\n",
            "\n",
            "[23763 rows x 52 columns]>\n",
            "\n",
            "Shape of training and test data after dropping unnecessary columns:  (23763, 34) (12962, 34)\n",
            "\n",
            " <bound method NDFrame.head of        loan_amnt  funded_amnt  funded_amnt_inv        term int_rate  installment grade sub_grade emp_length home_ownership  annual_inc verification_status  loan_status             purpose                         title zip_code addr_state    dti  delinq_2yrs  inq_last_6mths  open_acc  pub_rec  revol_bal revol_util  total_acc   total_pymnt  total_pymnt_inv  total_rec_prncp  total_rec_int  total_rec_late_fee  recoveries  collection_recovery_fee  last_pymnt_amnt  pub_rec_bankruptcies\n",
            "0          10000        10000       9950.00000   36 months    7.51%       311.11     A        A4  10+ years           RENT     30000.0     Source Verified           -1    home_improvement                homeimproement    076xx         NJ   5.00            0               3        19        0       1450      1.20%         48   2247.210000          2235.98          1509.91         350.87                 0.0      386.43                     3.96           311.11                   0.0\n",
            "1          15000        15000      14800.00000   36 months    8.94%       476.58     A        A5     1 year           RENT    147000.0        Not Verified            1               other                    Green City    300xx         GA   3.47            0               0         6        0       4910        14%         17  15112.760000         14911.26         15000.00         112.76                 0.0        0.00                     0.00         15114.03                   0.0\n",
            "2           2000         2000       2000.00000   36 months   13.57%        67.94     C        C3    4 years            OWN     36000.0        Not Verified            1      major_purchase           payoff w/in 2 years    310xx         GA   7.83            0               0         8        0       1790     34.40%         10   2354.966827          2354.97          2000.00         354.97                 0.0        0.00                     0.00           101.78                   0.0\n",
            "4          14000        14000      14000.00000   60 months   17.49%       351.64     D        D5    5 years       MORTGAGE     50000.0        Not Verified            1  debt_consolidation                        save %    334xx         FL  21.24            1               1         9        1        553      9.40%         27  20804.230020         20804.23         14000.00        6804.23                 0.0        0.00                     0.00          3943.27                   0.0\n",
            "5          12000        12000      11900.00000   36 months    8.94%       381.26     A        A5    7 years       MORTGAGE    294000.0        Not Verified            1               other  Invest in Lending Club Notes    939xx         CA   0.50            0               0        11        0       5306      2.80%         21  12344.811770         12241.94         12000.00         344.81                 0.0        0.00                     0.00         11204.30                   0.0\n",
            "...          ...          ...              ...         ...      ...          ...   ...       ...        ...            ...         ...                 ...          ...                 ...                           ...      ...        ...    ...          ...             ...       ...      ...        ...        ...        ...           ...              ...              ...            ...                 ...         ...                      ...              ...                   ...\n",
            "24994       5500         5500       5500.00000   36 months   14.96%       190.55     D        D2    7 years       MORTGAGE     52000.0        Not Verified            1  debt_consolidation                       FREEDOM    320xx         FL  18.74            0               2        11        0      10655     58.20%         37   6825.066783          6825.07          5500.00        1325.07                 0.0        0.00                     0.00          1122.20                   0.0\n",
            "24995      11450        11450      11450.00000   36 months    8.49%       361.40     A        A5    7 years           RENT     40000.0     Source Verified            1  debt_consolidation     Credit Card Consolidation    980xx         WA  21.21            0               0        10        0      10192        34%         15  13010.206030         13010.21         11450.00        1560.21                 0.0        0.00                     0.00           382.90                   0.0\n",
            "24996      24000        24000      21100.31424   60 months   20.53%       642.96     G        G2  10+ years       MORTGAGE     74454.0            Verified            1  debt_consolidation                       C3myboy    301xx         GA  19.95            0               3         9        0      29108     77.20%         24  33765.068310         26978.96         24000.00        9765.07                 0.0        0.00                     0.00         16500.39                   0.0\n",
            "24997      14000        14000      11411.12089   36 months   17.58%       503.19     F        F2  10+ years       MORTGAGE     86000.0            Verified            1  debt_consolidation        consolidation loan 001    440xx         OH  21.93            0               0        13        1      18991        95%         26  17917.012900         14191.06         14000.00        3917.01                 0.0        0.00                     0.00          3857.88                   1.0\n",
            "24998      13400        13400      13400.00000   36 months   13.06%       451.89     C        C2   < 1 year           RENT     62040.0        Not Verified            1  debt_consolidation           Refinance Debt Loan    706xx         LA  18.84            0               3        12        0       5389     41.80%         14  16268.440550         16268.44         13400.00        2868.44                 0.0        0.00                     0.00           475.29                   0.0\n",
            "\n",
            "[23763 rows x 34 columns]>\n"
          ]
        }
      ]
    },
    {
      "cell_type": "markdown",
      "metadata": {
        "id": "SiAUWcNy9uO-"
      },
      "source": [
        "## Encode categorical and ordinal columns"
      ]
    },
    {
      "cell_type": "code",
      "metadata": {
        "colab": {
          "base_uri": "https://localhost:8080/"
        },
        "id": "scGcK87D91gF",
        "outputId": "1e59a715-a09a-4bd3-93ff-bd441ab3d5b1"
      },
      "source": [
        "# Need encoding: grade, sub_grade, home_ownership, verification_status, purpose, title, zip_code, addr_state, application_type  \n",
        "\n",
        "from sklearn.preprocessing import OrdinalEncoder, OneHotEncoder\n",
        "\n",
        "# Apply ordinal encoder for columns: grade, sub_grade, home_ownership, verification_status, title(>12k unique values), \n",
        "# zip_code(772 unique values), term, emp_length\n",
        "ordinal_encoder = OrdinalEncoder(handle_unknown = \"use_encoded_value\", unknown_value = -1)\n",
        "loan_train_dataset[\"title\"] = loan_train_dataset[\"title\"].str.lower()\n",
        "ordinal_columns = [\"grade\", \"sub_grade\", \"home_ownership\", \"verification_status\", \"title\", \"zip_code\", \"term\", \"emp_length\"]\n",
        "loan_train_dataset[ordinal_columns] = ordinal_encoder.fit_transform(loan_train_dataset[ordinal_columns])\n",
        "loan_test_dataset[ordinal_columns] = ordinal_encoder.transform(loan_test_dataset[ordinal_columns])\n",
        "\n",
        "# Apply one-hot encoder for columns: purpose, addr_state\n",
        "one_hot_encoder = OneHotEncoder(handle_unknown='ignore', sparse=False)\n",
        "categorical_columns = [\"purpose\", \"addr_state\"]\n",
        "one_hot_columns_train = pd.DataFrame(one_hot_encoder.fit_transform(loan_train_dataset[categorical_columns]))\n",
        "one_hot_columns_test = pd.DataFrame(one_hot_encoder.transform(loan_test_dataset[categorical_columns]))\n",
        "\n",
        "# One-hot encoding removes the index so put it back\n",
        "one_hot_columns_train.index = loan_train_dataset.index\n",
        "one_hot_columns_test.index = loan_test_dataset.index\n",
        "\n",
        "# Remove categorical columns (will replace with one-hot encoding)\n",
        "loan_train_dataset = loan_train_dataset.drop(categorical_columns, axis=1)\n",
        "loan_test_dataset = loan_test_dataset.drop(categorical_columns, axis=1)\n",
        "\n",
        "# Add one-hot encoded columns\n",
        "loan_train_dataset = pd.concat([loan_train_dataset, one_hot_columns_train], axis=1)\n",
        "loan_test_dataset = pd.concat([loan_test_dataset, one_hot_columns_test], axis=1)\n",
        "\n",
        "print(\"\\n\", loan_train_dataset.head, loan_test_dataset.head)"
      ],
      "execution_count": null,
      "outputs": [
        {
          "output_type": "stream",
          "name": "stdout",
          "text": [
            "\n",
            " <bound method NDFrame.head of        loan_amnt  funded_amnt  funded_amnt_inv  term int_rate  installment  grade  sub_grade  emp_length  home_ownership  annual_inc  verification_status  loan_status   title  zip_code    dti  delinq_2yrs  inq_last_6mths  open_acc  pub_rec  revol_bal revol_util  total_acc   total_pymnt  total_pymnt_inv  total_rec_prncp  total_rec_int  total_rec_late_fee  recoveries  collection_recovery_fee  last_pymnt_amnt  pub_rec_bankruptcies    0    1    2    3    4    5    6    7    8    9   10   11   12   13   14   15   16   17   18   19   20   21   22   23   24   25   26   27   28   29   30   31   32   33   34   35   36   37   38   39   40   41   42   43   44   45   46   47   48   49   50   51   52   53   54   55   56   57   58   59\n",
            "0          10000        10000       9950.00000   0.0    7.51%       311.11    0.0        3.0         1.0             3.0     30000.0                  1.0           -1  5437.0      53.0   5.00            0               3        19        0       1450      1.20%         48   2247.210000          2235.98          1509.91         350.87                 0.0      386.43                     3.96           311.11                   0.0  0.0  0.0  0.0  0.0  1.0  0.0  0.0  0.0  0.0  0.0  0.0  0.0  0.0  0.0  0.0  0.0  0.0  0.0  0.0  0.0  0.0  0.0  0.0  0.0  0.0  0.0  0.0  0.0  0.0  0.0  0.0  0.0  0.0  0.0  0.0  0.0  0.0  0.0  0.0  0.0  1.0  0.0  0.0  0.0  0.0  0.0  0.0  0.0  0.0  0.0  0.0  0.0  0.0  0.0  0.0  0.0  0.0  0.0  0.0  0.0\n",
            "1          15000        15000      14800.00000   0.0    8.94%       476.58    0.0        4.0         0.0             3.0    147000.0                  0.0            1  4899.0     256.0   3.47            0               0         6        0       4910        14%         17  15112.760000         14911.26         15000.00         112.76                 0.0        0.00                     0.00         15114.03                   0.0  0.0  0.0  0.0  0.0  0.0  0.0  0.0  0.0  0.0  1.0  0.0  0.0  0.0  0.0  0.0  0.0  0.0  0.0  0.0  0.0  0.0  0.0  0.0  0.0  1.0  0.0  0.0  0.0  0.0  0.0  0.0  0.0  0.0  0.0  0.0  0.0  0.0  0.0  0.0  0.0  0.0  0.0  0.0  0.0  0.0  0.0  0.0  0.0  0.0  0.0  0.0  0.0  0.0  0.0  0.0  0.0  0.0  0.0  0.0  0.0\n",
            "2           2000         2000       2000.00000   0.0   13.57%        67.94    2.0       12.0         4.0             2.0     36000.0                  0.0            1  8513.0     266.0   7.83            0               0         8        0       1790     34.40%         10   2354.966827          2354.97          2000.00         354.97                 0.0        0.00                     0.00           101.78                   0.0  0.0  0.0  0.0  0.0  0.0  0.0  1.0  0.0  0.0  0.0  0.0  0.0  0.0  0.0  0.0  0.0  0.0  0.0  0.0  0.0  0.0  0.0  0.0  0.0  1.0  0.0  0.0  0.0  0.0  0.0  0.0  0.0  0.0  0.0  0.0  0.0  0.0  0.0  0.0  0.0  0.0  0.0  0.0  0.0  0.0  0.0  0.0  0.0  0.0  0.0  0.0  0.0  0.0  0.0  0.0  0.0  0.0  0.0  0.0  0.0\n",
            "4          14000        14000      14000.00000   1.0   17.49%       351.64    3.0       19.0         5.0             0.0     50000.0                  0.0            1  9624.0     288.0  21.24            1               1         9        1        553      9.40%         27  20804.230020         20804.23         14000.00        6804.23                 0.0        0.00                     0.00          3943.27                   0.0  0.0  0.0  1.0  0.0  0.0  0.0  0.0  0.0  0.0  0.0  0.0  0.0  0.0  0.0  0.0  0.0  0.0  0.0  0.0  0.0  0.0  0.0  0.0  1.0  0.0  0.0  0.0  0.0  0.0  0.0  0.0  0.0  0.0  0.0  0.0  0.0  0.0  0.0  0.0  0.0  0.0  0.0  0.0  0.0  0.0  0.0  0.0  0.0  0.0  0.0  0.0  0.0  0.0  0.0  0.0  0.0  0.0  0.0  0.0  0.0\n",
            "5          12000        12000      11900.00000   0.0    8.94%       381.26    0.0        4.0         7.0             0.0    294000.0                  0.0            1  5683.0     720.0   0.50            0               0        11        0       5306      2.80%         21  12344.811770         12241.94         12000.00         344.81                 0.0        0.00                     0.00         11204.30                   0.0  0.0  0.0  0.0  0.0  0.0  0.0  0.0  0.0  0.0  1.0  0.0  0.0  0.0  0.0  0.0  0.0  0.0  0.0  1.0  0.0  0.0  0.0  0.0  0.0  0.0  0.0  0.0  0.0  0.0  0.0  0.0  0.0  0.0  0.0  0.0  0.0  0.0  0.0  0.0  0.0  0.0  0.0  0.0  0.0  0.0  0.0  0.0  0.0  0.0  0.0  0.0  0.0  0.0  0.0  0.0  0.0  0.0  0.0  0.0  0.0\n",
            "...          ...          ...              ...   ...      ...          ...    ...        ...         ...             ...         ...                  ...          ...     ...       ...    ...          ...             ...       ...      ...        ...        ...        ...           ...              ...              ...            ...                 ...         ...                      ...              ...                   ...  ...  ...  ...  ...  ...  ...  ...  ...  ...  ...  ...  ...  ...  ...  ...  ...  ...  ...  ...  ...  ...  ...  ...  ...  ...  ...  ...  ...  ...  ...  ...  ...  ...  ...  ...  ...  ...  ...  ...  ...  ...  ...  ...  ...  ...  ...  ...  ...  ...  ...  ...  ...  ...  ...  ...  ...  ...  ...  ...  ...\n",
            "24994       5500         5500       5500.00000   0.0   14.96%       190.55    3.0       16.0         7.0             0.0     52000.0                  0.0            1  4417.0     275.0  18.74            0               2        11        0      10655     58.20%         37   6825.066783          6825.07          5500.00        1325.07                 0.0        0.00                     0.00          1122.20                   0.0  0.0  0.0  1.0  0.0  0.0  0.0  0.0  0.0  0.0  0.0  0.0  0.0  0.0  0.0  0.0  0.0  0.0  0.0  0.0  0.0  0.0  0.0  0.0  1.0  0.0  0.0  0.0  0.0  0.0  0.0  0.0  0.0  0.0  0.0  0.0  0.0  0.0  0.0  0.0  0.0  0.0  0.0  0.0  0.0  0.0  0.0  0.0  0.0  0.0  0.0  0.0  0.0  0.0  0.0  0.0  0.0  0.0  0.0  0.0  0.0\n",
            "24995      11450        11450      11450.00000   0.0    8.49%       361.40    0.0        4.0         7.0             3.0     40000.0                  1.0            1  2550.0     754.0  21.21            0               0        10        0      10192        34%         15  13010.206030         13010.21         11450.00        1560.21                 0.0        0.00                     0.00           382.90                   0.0  0.0  0.0  1.0  0.0  0.0  0.0  0.0  0.0  0.0  0.0  0.0  0.0  0.0  0.0  0.0  0.0  0.0  0.0  0.0  0.0  0.0  0.0  0.0  0.0  0.0  0.0  0.0  0.0  0.0  0.0  0.0  0.0  0.0  0.0  0.0  0.0  0.0  0.0  0.0  0.0  0.0  0.0  0.0  0.0  0.0  0.0  0.0  0.0  0.0  0.0  0.0  0.0  0.0  0.0  0.0  0.0  1.0  0.0  0.0  0.0\n",
            "24996      24000        24000      21100.31424   1.0   20.53%       642.96    6.0       31.0         1.0             0.0     74454.0                  2.0            1  1424.0     257.0  19.95            0               3         9        0      29108     77.20%         24  33765.068310         26978.96         24000.00        9765.07                 0.0        0.00                     0.00         16500.39                   0.0  0.0  0.0  1.0  0.0  0.0  0.0  0.0  0.0  0.0  0.0  0.0  0.0  0.0  0.0  0.0  0.0  0.0  0.0  0.0  0.0  0.0  0.0  0.0  0.0  1.0  0.0  0.0  0.0  0.0  0.0  0.0  0.0  0.0  0.0  0.0  0.0  0.0  0.0  0.0  0.0  0.0  0.0  0.0  0.0  0.0  0.0  0.0  0.0  0.0  0.0  0.0  0.0  0.0  0.0  0.0  0.0  0.0  0.0  0.0  0.0\n",
            "24997      14000        14000      11411.12089   0.0   17.58%       503.19    5.0       26.0         1.0             0.0     86000.0                  2.0            1  2376.0     370.0  21.93            0               0        13        1      18991        95%         26  17917.012900         14191.06         14000.00        3917.01                 0.0        0.00                     0.00          3857.88                   1.0  0.0  0.0  1.0  0.0  0.0  0.0  0.0  0.0  0.0  0.0  0.0  0.0  0.0  0.0  0.0  0.0  0.0  0.0  0.0  0.0  0.0  0.0  0.0  0.0  0.0  0.0  0.0  0.0  0.0  0.0  0.0  0.0  0.0  0.0  0.0  0.0  0.0  0.0  0.0  0.0  0.0  0.0  0.0  0.0  1.0  0.0  0.0  0.0  0.0  0.0  0.0  0.0  0.0  0.0  0.0  0.0  0.0  0.0  0.0  0.0\n",
            "24998      13400        13400      13400.00000   0.0   13.06%       451.89    2.0       11.0        10.0             3.0     62040.0                  0.0            1  9176.0     540.0  18.84            0               3        12        0       5389     41.80%         14  16268.440550         16268.44         13400.00        2868.44                 0.0        0.00                     0.00           475.29                   0.0  0.0  0.0  1.0  0.0  0.0  0.0  0.0  0.0  0.0  0.0  0.0  0.0  0.0  0.0  0.0  0.0  0.0  0.0  0.0  0.0  0.0  0.0  0.0  0.0  0.0  0.0  0.0  0.0  0.0  0.0  1.0  0.0  0.0  0.0  0.0  0.0  0.0  0.0  0.0  0.0  0.0  0.0  0.0  0.0  0.0  0.0  0.0  0.0  0.0  0.0  0.0  0.0  0.0  0.0  0.0  0.0  0.0  0.0  0.0  0.0\n",
            "\n",
            "[23763 rows x 92 columns]> <bound method NDFrame.head of        loan_amnt  funded_amnt  funded_amnt_inv  term int_rate  installment  grade  sub_grade  emp_length  home_ownership  annual_inc  verification_status  loan_status   title  zip_code    dti  delinq_2yrs  inq_last_6mths  open_acc  pub_rec  revol_bal revol_util  total_acc   total_pymnt  total_pymnt_inv  total_rec_prncp  total_rec_int  total_rec_late_fee  recoveries  collection_recovery_fee  last_pymnt_amnt  pub_rec_bankruptcies    0    1    2    3    4    5    6    7    8    9   10   11   12   13   14   15   16   17   18   19   20   21   22   23   24   25   26   27   28   29   30   31   32   33   34   35   36   37   38   39   40   41   42   43   44   45   46   47   48   49   50   51   52   53   54   55   56   57   58   59\n",
            "0           4200         4200      4200.000000   0.0    6.62%       128.96    0.0        1.0         6.0             3.0     69000.0                  0.0            1    -1.0     119.0  11.08            0               0        10        0       4544     11.60%         15   4642.374867          4642.37          4200.00         442.37             0.00000         0.0                    0.000           132.82                   0.0  1.0  0.0  0.0  0.0  0.0  0.0  0.0  0.0  0.0  0.0  0.0  0.0  0.0  0.0  0.0  0.0  0.0  0.0  0.0  0.0  0.0  0.0  0.0  0.0  0.0  0.0  0.0  0.0  0.0  0.0  0.0  0.0  0.0  0.0  0.0  0.0  0.0  0.0  0.0  0.0  0.0  0.0  0.0  0.0  0.0  0.0  0.0  1.0  0.0  0.0  0.0  0.0  0.0  0.0  0.0  0.0  0.0  0.0  0.0  0.0\n",
            "1           1325         1325      1325.000000   0.0   13.49%        44.96    2.0       11.0        10.0             3.0     24000.0                  1.0           -1    -1.0     539.0   3.80            0               0         3        0       2158     11.90%          3   1476.640000          1476.64          1145.61         287.60            14.93661        28.5                    0.285            44.96                   0.0  0.0  0.0  0.0  0.0  0.0  0.0  0.0  0.0  1.0  0.0  0.0  0.0  0.0  0.0  0.0  0.0  0.0  0.0  0.0  0.0  0.0  0.0  0.0  0.0  0.0  0.0  0.0  0.0  0.0  0.0  1.0  0.0  0.0  0.0  0.0  0.0  0.0  0.0  0.0  0.0  0.0  0.0  0.0  0.0  0.0  0.0  0.0  0.0  0.0  0.0  0.0  0.0  0.0  0.0  0.0  0.0  0.0  0.0  0.0  0.0\n",
            "2          10000        10000      9975.000000   0.0    8.94%       317.72    0.0        4.0         4.0             0.0     75000.0                  0.0            1    -1.0     147.0  12.64            0               1        10        0      36161     46.40%         45  10287.347790         10261.63         10000.00         287.35             0.00000         0.0                    0.000          9337.10                   0.0  0.0  0.0  1.0  0.0  0.0  0.0  0.0  0.0  0.0  0.0  0.0  0.0  0.0  0.0  0.0  0.0  0.0  0.0  0.0  0.0  0.0  0.0  0.0  0.0  0.0  0.0  0.0  0.0  0.0  0.0  0.0  0.0  0.0  0.0  0.0  0.0  0.0  0.0  0.0  0.0  0.0  0.0  0.0  0.0  0.0  0.0  0.0  1.0  0.0  0.0  0.0  0.0  0.0  0.0  0.0  0.0  0.0  0.0  0.0  0.0\n",
            "3           6000         6000      6000.000000   1.0   16.49%       147.48    3.0       17.0         1.0             3.0     60000.0                  1.0            1    -1.0     153.0  13.06            0               0        20        0      13961     60.20%         24   8848.343924          8848.34          6000.00        2848.34             0.00000         0.0                    0.000           147.02                   0.0  0.0  0.0  1.0  0.0  0.0  0.0  0.0  0.0  0.0  0.0  0.0  0.0  0.0  0.0  0.0  0.0  0.0  0.0  0.0  0.0  0.0  0.0  0.0  0.0  0.0  0.0  0.0  0.0  0.0  0.0  0.0  0.0  0.0  0.0  0.0  0.0  0.0  0.0  0.0  0.0  0.0  0.0  0.0  0.0  0.0  0.0  0.0  1.0  0.0  0.0  0.0  0.0  0.0  0.0  0.0  0.0  0.0  0.0  0.0  0.0\n",
            "4          25000        25000     25000.000000   0.0   15.21%       869.21    3.0       16.0         4.0             3.0    135000.0                  1.0            1    -1.0     730.0  15.49            0               2        20        0      21090     55.70%         44  31293.587380         31293.59         25000.00        6293.59             0.00000         0.0                    0.000           960.31                   0.0  0.0  0.0  1.0  0.0  0.0  0.0  0.0  0.0  0.0  0.0  0.0  0.0  0.0  0.0  0.0  0.0  0.0  0.0  1.0  0.0  0.0  0.0  0.0  0.0  0.0  0.0  0.0  0.0  0.0  0.0  0.0  0.0  0.0  0.0  0.0  0.0  0.0  0.0  0.0  0.0  0.0  0.0  0.0  0.0  0.0  0.0  0.0  0.0  0.0  0.0  0.0  0.0  0.0  0.0  0.0  0.0  0.0  0.0  0.0  0.0\n",
            "...          ...          ...              ...   ...      ...          ...    ...        ...         ...             ...         ...                  ...          ...     ...       ...    ...          ...             ...       ...      ...        ...        ...        ...           ...              ...              ...            ...                 ...         ...                      ...              ...                   ...  ...  ...  ...  ...  ...  ...  ...  ...  ...  ...  ...  ...  ...  ...  ...  ...  ...  ...  ...  ...  ...  ...  ...  ...  ...  ...  ...  ...  ...  ...  ...  ...  ...  ...  ...  ...  ...  ...  ...  ...  ...  ...  ...  ...  ...  ...  ...  ...  ...  ...  ...  ...  ...  ...  ...  ...  ...  ...  ...  ...\n",
            "14673      20000        20000      3485.560000   0.0   10.08%       646.10    1.0        7.0        10.0             3.0    150000.0                  0.0            1    -1.0     730.0   6.86            0               2         8        0         84      0.20%         10  23259.409030          3715.18         20000.00        3259.41             0.00000         0.0                    0.000           648.46                   0.0  0.0  1.0  0.0  0.0  0.0  0.0  0.0  0.0  0.0  0.0  0.0  0.0  0.0  0.0  0.0  0.0  0.0  0.0  1.0  0.0  0.0  0.0  0.0  0.0  0.0  0.0  0.0  0.0  0.0  0.0  0.0  0.0  0.0  0.0  0.0  0.0  0.0  0.0  0.0  0.0  0.0  0.0  0.0  0.0  0.0  0.0  0.0  0.0  0.0  0.0  0.0  0.0  0.0  0.0  0.0  0.0  0.0  0.0  0.0  0.0\n",
            "14674      25000        25000      9574.999856   0.0   13.55%       848.99    3.0       18.0        10.0             0.0     62000.0                  0.0           -1    -1.0     679.0  14.26            0               2        16        0       7019     13.40%         23   2542.740000           971.40          1716.51         826.23             0.00000         0.0                    0.000           848.99                   0.0  0.0  0.0  1.0  0.0  0.0  0.0  0.0  0.0  0.0  0.0  0.0  0.0  0.0  0.0  0.0  0.0  0.0  0.0  0.0  0.0  0.0  0.0  0.0  0.0  0.0  0.0  0.0  0.0  0.0  0.0  0.0  0.0  0.0  0.0  0.0  0.0  0.0  0.0  0.0  0.0  0.0  0.0  1.0  0.0  0.0  0.0  0.0  0.0  0.0  0.0  0.0  0.0  0.0  0.0  0.0  0.0  0.0  0.0  0.0  0.0\n",
            "14676      12000        12000      4807.340000   0.0   11.97%       398.40    2.0       13.0         0.0             3.0     85000.0                  0.0            1    -1.0      66.0  14.08            0               2        15        1      22205     88.80%         28  14342.400000          5617.44         12000.00        2342.40             0.00000         0.0                    0.000           398.40                   1.0  0.0  0.0  1.0  0.0  0.0  0.0  0.0  0.0  0.0  0.0  0.0  0.0  0.0  0.0  0.0  0.0  0.0  0.0  0.0  0.0  0.0  0.0  0.0  0.0  0.0  0.0  0.0  0.0  0.0  0.0  0.0  0.0  0.0  0.0  0.0  0.0  0.0  0.0  0.0  0.0  1.0  0.0  0.0  0.0  0.0  0.0  0.0  0.0  0.0  0.0  0.0  0.0  0.0  0.0  0.0  0.0  0.0  0.0  0.0  0.0\n",
            "14685       3000         3000      2975.000000   0.0    9.45%        96.03    1.0        5.0        10.0             0.0     75000.0                  0.0            1  5242.0      41.0   1.49            0               0         9        1       8788     39.20%         24   3346.881216          3318.99          3000.00         346.88             0.00000         0.0                    0.000          1619.15                   1.0  0.0  0.0  0.0  0.0  1.0  0.0  0.0  0.0  0.0  0.0  0.0  0.0  0.0  0.0  0.0  0.0  0.0  0.0  0.0  0.0  1.0  0.0  0.0  0.0  0.0  0.0  0.0  0.0  0.0  0.0  0.0  0.0  0.0  0.0  0.0  0.0  0.0  0.0  0.0  0.0  0.0  0.0  0.0  0.0  0.0  0.0  0.0  0.0  0.0  0.0  0.0  0.0  0.0  0.0  0.0  0.0  0.0  0.0  0.0  0.0\n",
            "14701       7000         7000      1000.000000   0.0   10.59%       227.82    2.0       11.0         3.0             0.0     63500.0                  0.0            1    -1.0     660.0   8.50            0               1         9        1      14930        79%         21   8174.021910          1167.72          7000.00        1174.02             0.00000         0.0                    0.000          1571.29                   1.0  0.0  0.0  1.0  0.0  0.0  0.0  0.0  0.0  0.0  0.0  0.0  0.0  0.0  0.0  0.0  0.0  0.0  1.0  0.0  0.0  0.0  0.0  0.0  0.0  0.0  0.0  0.0  0.0  0.0  0.0  0.0  0.0  0.0  0.0  0.0  0.0  0.0  0.0  0.0  0.0  0.0  0.0  0.0  0.0  0.0  0.0  0.0  0.0  0.0  0.0  0.0  0.0  0.0  0.0  0.0  0.0  0.0  0.0  0.0  0.0\n",
            "\n",
            "[12962 rows x 92 columns]>\n"
          ]
        }
      ]
    },
    {
      "cell_type": "markdown",
      "metadata": {
        "id": "o8TGR4MpUElB"
      },
      "source": [
        "## Additional processing/formatting"
      ]
    },
    {
      "cell_type": "code",
      "metadata": {
        "colab": {
          "base_uri": "https://localhost:8080/"
        },
        "id": "ee5stWbrUK48",
        "outputId": "ea0f638b-a1fe-41fb-fcc7-67ec7ebd30ae"
      },
      "source": [
        "# Need processing: int_rate(have %), revol_util(have %)\n",
        "\n",
        "# Remove % from int_rate\n",
        "loan_train_dataset['int_rate'] = loan_train_dataset['int_rate'].str.rstrip('%').astype('float')\n",
        "loan_test_dataset['int_rate'] = loan_test_dataset['int_rate'].str.rstrip('%').astype('float')\n",
        "\n",
        "# Remove % from revol_util\n",
        "loan_train_dataset['revol_util'] = loan_train_dataset['revol_util'].str.rstrip('%').astype('float')\n",
        "loan_test_dataset['revol_util'] = loan_test_dataset['revol_util'].str.rstrip('%').astype('float')\n",
        "\n",
        "print(\"\\n\", loan_train_dataset.head, loan_test_dataset.head)"
      ],
      "execution_count": null,
      "outputs": [
        {
          "output_type": "stream",
          "name": "stdout",
          "text": [
            "\n",
            " <bound method NDFrame.head of        loan_amnt  funded_amnt  funded_amnt_inv  term  int_rate  installment  grade  sub_grade  emp_length  home_ownership  annual_inc  verification_status  loan_status   title  zip_code    dti  delinq_2yrs  inq_last_6mths  open_acc  pub_rec  revol_bal  revol_util  total_acc   total_pymnt  total_pymnt_inv  total_rec_prncp  total_rec_int  total_rec_late_fee  recoveries  collection_recovery_fee  last_pymnt_amnt  pub_rec_bankruptcies    0    1    2    3    4    5    6    7    8    9   10   11   12   13   14   15   16   17   18   19   20   21   22   23   24   25   26   27   28   29   30   31   32   33   34   35   36   37   38   39   40   41   42   43   44   45   46   47   48   49   50   51   52   53   54   55   56   57   58   59\n",
            "0          10000        10000       9950.00000   0.0      7.51       311.11    0.0        3.0         1.0             3.0     30000.0                  1.0           -1  5437.0      53.0   5.00            0               3        19        0       1450         1.2         48   2247.210000          2235.98          1509.91         350.87                 0.0      386.43                     3.96           311.11                   0.0  0.0  0.0  0.0  0.0  1.0  0.0  0.0  0.0  0.0  0.0  0.0  0.0  0.0  0.0  0.0  0.0  0.0  0.0  0.0  0.0  0.0  0.0  0.0  0.0  0.0  0.0  0.0  0.0  0.0  0.0  0.0  0.0  0.0  0.0  0.0  0.0  0.0  0.0  0.0  0.0  1.0  0.0  0.0  0.0  0.0  0.0  0.0  0.0  0.0  0.0  0.0  0.0  0.0  0.0  0.0  0.0  0.0  0.0  0.0  0.0\n",
            "1          15000        15000      14800.00000   0.0      8.94       476.58    0.0        4.0         0.0             3.0    147000.0                  0.0            1  4899.0     256.0   3.47            0               0         6        0       4910        14.0         17  15112.760000         14911.26         15000.00         112.76                 0.0        0.00                     0.00         15114.03                   0.0  0.0  0.0  0.0  0.0  0.0  0.0  0.0  0.0  0.0  1.0  0.0  0.0  0.0  0.0  0.0  0.0  0.0  0.0  0.0  0.0  0.0  0.0  0.0  0.0  1.0  0.0  0.0  0.0  0.0  0.0  0.0  0.0  0.0  0.0  0.0  0.0  0.0  0.0  0.0  0.0  0.0  0.0  0.0  0.0  0.0  0.0  0.0  0.0  0.0  0.0  0.0  0.0  0.0  0.0  0.0  0.0  0.0  0.0  0.0  0.0\n",
            "2           2000         2000       2000.00000   0.0     13.57        67.94    2.0       12.0         4.0             2.0     36000.0                  0.0            1  8513.0     266.0   7.83            0               0         8        0       1790        34.4         10   2354.966827          2354.97          2000.00         354.97                 0.0        0.00                     0.00           101.78                   0.0  0.0  0.0  0.0  0.0  0.0  0.0  1.0  0.0  0.0  0.0  0.0  0.0  0.0  0.0  0.0  0.0  0.0  0.0  0.0  0.0  0.0  0.0  0.0  0.0  1.0  0.0  0.0  0.0  0.0  0.0  0.0  0.0  0.0  0.0  0.0  0.0  0.0  0.0  0.0  0.0  0.0  0.0  0.0  0.0  0.0  0.0  0.0  0.0  0.0  0.0  0.0  0.0  0.0  0.0  0.0  0.0  0.0  0.0  0.0  0.0\n",
            "4          14000        14000      14000.00000   1.0     17.49       351.64    3.0       19.0         5.0             0.0     50000.0                  0.0            1  9624.0     288.0  21.24            1               1         9        1        553         9.4         27  20804.230020         20804.23         14000.00        6804.23                 0.0        0.00                     0.00          3943.27                   0.0  0.0  0.0  1.0  0.0  0.0  0.0  0.0  0.0  0.0  0.0  0.0  0.0  0.0  0.0  0.0  0.0  0.0  0.0  0.0  0.0  0.0  0.0  0.0  1.0  0.0  0.0  0.0  0.0  0.0  0.0  0.0  0.0  0.0  0.0  0.0  0.0  0.0  0.0  0.0  0.0  0.0  0.0  0.0  0.0  0.0  0.0  0.0  0.0  0.0  0.0  0.0  0.0  0.0  0.0  0.0  0.0  0.0  0.0  0.0  0.0\n",
            "5          12000        12000      11900.00000   0.0      8.94       381.26    0.0        4.0         7.0             0.0    294000.0                  0.0            1  5683.0     720.0   0.50            0               0        11        0       5306         2.8         21  12344.811770         12241.94         12000.00         344.81                 0.0        0.00                     0.00         11204.30                   0.0  0.0  0.0  0.0  0.0  0.0  0.0  0.0  0.0  0.0  1.0  0.0  0.0  0.0  0.0  0.0  0.0  0.0  0.0  1.0  0.0  0.0  0.0  0.0  0.0  0.0  0.0  0.0  0.0  0.0  0.0  0.0  0.0  0.0  0.0  0.0  0.0  0.0  0.0  0.0  0.0  0.0  0.0  0.0  0.0  0.0  0.0  0.0  0.0  0.0  0.0  0.0  0.0  0.0  0.0  0.0  0.0  0.0  0.0  0.0  0.0\n",
            "...          ...          ...              ...   ...       ...          ...    ...        ...         ...             ...         ...                  ...          ...     ...       ...    ...          ...             ...       ...      ...        ...         ...        ...           ...              ...              ...            ...                 ...         ...                      ...              ...                   ...  ...  ...  ...  ...  ...  ...  ...  ...  ...  ...  ...  ...  ...  ...  ...  ...  ...  ...  ...  ...  ...  ...  ...  ...  ...  ...  ...  ...  ...  ...  ...  ...  ...  ...  ...  ...  ...  ...  ...  ...  ...  ...  ...  ...  ...  ...  ...  ...  ...  ...  ...  ...  ...  ...  ...  ...  ...  ...  ...  ...\n",
            "24994       5500         5500       5500.00000   0.0     14.96       190.55    3.0       16.0         7.0             0.0     52000.0                  0.0            1  4417.0     275.0  18.74            0               2        11        0      10655        58.2         37   6825.066783          6825.07          5500.00        1325.07                 0.0        0.00                     0.00          1122.20                   0.0  0.0  0.0  1.0  0.0  0.0  0.0  0.0  0.0  0.0  0.0  0.0  0.0  0.0  0.0  0.0  0.0  0.0  0.0  0.0  0.0  0.0  0.0  0.0  1.0  0.0  0.0  0.0  0.0  0.0  0.0  0.0  0.0  0.0  0.0  0.0  0.0  0.0  0.0  0.0  0.0  0.0  0.0  0.0  0.0  0.0  0.0  0.0  0.0  0.0  0.0  0.0  0.0  0.0  0.0  0.0  0.0  0.0  0.0  0.0  0.0\n",
            "24995      11450        11450      11450.00000   0.0      8.49       361.40    0.0        4.0         7.0             3.0     40000.0                  1.0            1  2550.0     754.0  21.21            0               0        10        0      10192        34.0         15  13010.206030         13010.21         11450.00        1560.21                 0.0        0.00                     0.00           382.90                   0.0  0.0  0.0  1.0  0.0  0.0  0.0  0.0  0.0  0.0  0.0  0.0  0.0  0.0  0.0  0.0  0.0  0.0  0.0  0.0  0.0  0.0  0.0  0.0  0.0  0.0  0.0  0.0  0.0  0.0  0.0  0.0  0.0  0.0  0.0  0.0  0.0  0.0  0.0  0.0  0.0  0.0  0.0  0.0  0.0  0.0  0.0  0.0  0.0  0.0  0.0  0.0  0.0  0.0  0.0  0.0  0.0  1.0  0.0  0.0  0.0\n",
            "24996      24000        24000      21100.31424   1.0     20.53       642.96    6.0       31.0         1.0             0.0     74454.0                  2.0            1  1424.0     257.0  19.95            0               3         9        0      29108        77.2         24  33765.068310         26978.96         24000.00        9765.07                 0.0        0.00                     0.00         16500.39                   0.0  0.0  0.0  1.0  0.0  0.0  0.0  0.0  0.0  0.0  0.0  0.0  0.0  0.0  0.0  0.0  0.0  0.0  0.0  0.0  0.0  0.0  0.0  0.0  0.0  1.0  0.0  0.0  0.0  0.0  0.0  0.0  0.0  0.0  0.0  0.0  0.0  0.0  0.0  0.0  0.0  0.0  0.0  0.0  0.0  0.0  0.0  0.0  0.0  0.0  0.0  0.0  0.0  0.0  0.0  0.0  0.0  0.0  0.0  0.0  0.0\n",
            "24997      14000        14000      11411.12089   0.0     17.58       503.19    5.0       26.0         1.0             0.0     86000.0                  2.0            1  2376.0     370.0  21.93            0               0        13        1      18991        95.0         26  17917.012900         14191.06         14000.00        3917.01                 0.0        0.00                     0.00          3857.88                   1.0  0.0  0.0  1.0  0.0  0.0  0.0  0.0  0.0  0.0  0.0  0.0  0.0  0.0  0.0  0.0  0.0  0.0  0.0  0.0  0.0  0.0  0.0  0.0  0.0  0.0  0.0  0.0  0.0  0.0  0.0  0.0  0.0  0.0  0.0  0.0  0.0  0.0  0.0  0.0  0.0  0.0  0.0  0.0  0.0  1.0  0.0  0.0  0.0  0.0  0.0  0.0  0.0  0.0  0.0  0.0  0.0  0.0  0.0  0.0  0.0\n",
            "24998      13400        13400      13400.00000   0.0     13.06       451.89    2.0       11.0        10.0             3.0     62040.0                  0.0            1  9176.0     540.0  18.84            0               3        12        0       5389        41.8         14  16268.440550         16268.44         13400.00        2868.44                 0.0        0.00                     0.00           475.29                   0.0  0.0  0.0  1.0  0.0  0.0  0.0  0.0  0.0  0.0  0.0  0.0  0.0  0.0  0.0  0.0  0.0  0.0  0.0  0.0  0.0  0.0  0.0  0.0  0.0  0.0  0.0  0.0  0.0  0.0  0.0  1.0  0.0  0.0  0.0  0.0  0.0  0.0  0.0  0.0  0.0  0.0  0.0  0.0  0.0  0.0  0.0  0.0  0.0  0.0  0.0  0.0  0.0  0.0  0.0  0.0  0.0  0.0  0.0  0.0  0.0\n",
            "\n",
            "[23763 rows x 92 columns]> <bound method NDFrame.head of        loan_amnt  funded_amnt  funded_amnt_inv  term  int_rate  installment  grade  sub_grade  emp_length  home_ownership  annual_inc  verification_status  loan_status   title  zip_code    dti  delinq_2yrs  inq_last_6mths  open_acc  pub_rec  revol_bal  revol_util  total_acc   total_pymnt  total_pymnt_inv  total_rec_prncp  total_rec_int  total_rec_late_fee  recoveries  collection_recovery_fee  last_pymnt_amnt  pub_rec_bankruptcies    0    1    2    3    4    5    6    7    8    9   10   11   12   13   14   15   16   17   18   19   20   21   22   23   24   25   26   27   28   29   30   31   32   33   34   35   36   37   38   39   40   41   42   43   44   45   46   47   48   49   50   51   52   53   54   55   56   57   58   59\n",
            "0           4200         4200      4200.000000   0.0      6.62       128.96    0.0        1.0         6.0             3.0     69000.0                  0.0            1    -1.0     119.0  11.08            0               0        10        0       4544        11.6         15   4642.374867          4642.37          4200.00         442.37             0.00000         0.0                    0.000           132.82                   0.0  1.0  0.0  0.0  0.0  0.0  0.0  0.0  0.0  0.0  0.0  0.0  0.0  0.0  0.0  0.0  0.0  0.0  0.0  0.0  0.0  0.0  0.0  0.0  0.0  0.0  0.0  0.0  0.0  0.0  0.0  0.0  0.0  0.0  0.0  0.0  0.0  0.0  0.0  0.0  0.0  0.0  0.0  0.0  0.0  0.0  0.0  0.0  1.0  0.0  0.0  0.0  0.0  0.0  0.0  0.0  0.0  0.0  0.0  0.0  0.0\n",
            "1           1325         1325      1325.000000   0.0     13.49        44.96    2.0       11.0        10.0             3.0     24000.0                  1.0           -1    -1.0     539.0   3.80            0               0         3        0       2158        11.9          3   1476.640000          1476.64          1145.61         287.60            14.93661        28.5                    0.285            44.96                   0.0  0.0  0.0  0.0  0.0  0.0  0.0  0.0  0.0  1.0  0.0  0.0  0.0  0.0  0.0  0.0  0.0  0.0  0.0  0.0  0.0  0.0  0.0  0.0  0.0  0.0  0.0  0.0  0.0  0.0  0.0  1.0  0.0  0.0  0.0  0.0  0.0  0.0  0.0  0.0  0.0  0.0  0.0  0.0  0.0  0.0  0.0  0.0  0.0  0.0  0.0  0.0  0.0  0.0  0.0  0.0  0.0  0.0  0.0  0.0  0.0\n",
            "2          10000        10000      9975.000000   0.0      8.94       317.72    0.0        4.0         4.0             0.0     75000.0                  0.0            1    -1.0     147.0  12.64            0               1        10        0      36161        46.4         45  10287.347790         10261.63         10000.00         287.35             0.00000         0.0                    0.000          9337.10                   0.0  0.0  0.0  1.0  0.0  0.0  0.0  0.0  0.0  0.0  0.0  0.0  0.0  0.0  0.0  0.0  0.0  0.0  0.0  0.0  0.0  0.0  0.0  0.0  0.0  0.0  0.0  0.0  0.0  0.0  0.0  0.0  0.0  0.0  0.0  0.0  0.0  0.0  0.0  0.0  0.0  0.0  0.0  0.0  0.0  0.0  0.0  0.0  1.0  0.0  0.0  0.0  0.0  0.0  0.0  0.0  0.0  0.0  0.0  0.0  0.0\n",
            "3           6000         6000      6000.000000   1.0     16.49       147.48    3.0       17.0         1.0             3.0     60000.0                  1.0            1    -1.0     153.0  13.06            0               0        20        0      13961        60.2         24   8848.343924          8848.34          6000.00        2848.34             0.00000         0.0                    0.000           147.02                   0.0  0.0  0.0  1.0  0.0  0.0  0.0  0.0  0.0  0.0  0.0  0.0  0.0  0.0  0.0  0.0  0.0  0.0  0.0  0.0  0.0  0.0  0.0  0.0  0.0  0.0  0.0  0.0  0.0  0.0  0.0  0.0  0.0  0.0  0.0  0.0  0.0  0.0  0.0  0.0  0.0  0.0  0.0  0.0  0.0  0.0  0.0  0.0  1.0  0.0  0.0  0.0  0.0  0.0  0.0  0.0  0.0  0.0  0.0  0.0  0.0\n",
            "4          25000        25000     25000.000000   0.0     15.21       869.21    3.0       16.0         4.0             3.0    135000.0                  1.0            1    -1.0     730.0  15.49            0               2        20        0      21090        55.7         44  31293.587380         31293.59         25000.00        6293.59             0.00000         0.0                    0.000           960.31                   0.0  0.0  0.0  1.0  0.0  0.0  0.0  0.0  0.0  0.0  0.0  0.0  0.0  0.0  0.0  0.0  0.0  0.0  0.0  1.0  0.0  0.0  0.0  0.0  0.0  0.0  0.0  0.0  0.0  0.0  0.0  0.0  0.0  0.0  0.0  0.0  0.0  0.0  0.0  0.0  0.0  0.0  0.0  0.0  0.0  0.0  0.0  0.0  0.0  0.0  0.0  0.0  0.0  0.0  0.0  0.0  0.0  0.0  0.0  0.0  0.0\n",
            "...          ...          ...              ...   ...       ...          ...    ...        ...         ...             ...         ...                  ...          ...     ...       ...    ...          ...             ...       ...      ...        ...         ...        ...           ...              ...              ...            ...                 ...         ...                      ...              ...                   ...  ...  ...  ...  ...  ...  ...  ...  ...  ...  ...  ...  ...  ...  ...  ...  ...  ...  ...  ...  ...  ...  ...  ...  ...  ...  ...  ...  ...  ...  ...  ...  ...  ...  ...  ...  ...  ...  ...  ...  ...  ...  ...  ...  ...  ...  ...  ...  ...  ...  ...  ...  ...  ...  ...  ...  ...  ...  ...  ...  ...\n",
            "14673      20000        20000      3485.560000   0.0     10.08       646.10    1.0        7.0        10.0             3.0    150000.0                  0.0            1    -1.0     730.0   6.86            0               2         8        0         84         0.2         10  23259.409030          3715.18         20000.00        3259.41             0.00000         0.0                    0.000           648.46                   0.0  0.0  1.0  0.0  0.0  0.0  0.0  0.0  0.0  0.0  0.0  0.0  0.0  0.0  0.0  0.0  0.0  0.0  0.0  1.0  0.0  0.0  0.0  0.0  0.0  0.0  0.0  0.0  0.0  0.0  0.0  0.0  0.0  0.0  0.0  0.0  0.0  0.0  0.0  0.0  0.0  0.0  0.0  0.0  0.0  0.0  0.0  0.0  0.0  0.0  0.0  0.0  0.0  0.0  0.0  0.0  0.0  0.0  0.0  0.0  0.0\n",
            "14674      25000        25000      9574.999856   0.0     13.55       848.99    3.0       18.0        10.0             0.0     62000.0                  0.0           -1    -1.0     679.0  14.26            0               2        16        0       7019        13.4         23   2542.740000           971.40          1716.51         826.23             0.00000         0.0                    0.000           848.99                   0.0  0.0  0.0  1.0  0.0  0.0  0.0  0.0  0.0  0.0  0.0  0.0  0.0  0.0  0.0  0.0  0.0  0.0  0.0  0.0  0.0  0.0  0.0  0.0  0.0  0.0  0.0  0.0  0.0  0.0  0.0  0.0  0.0  0.0  0.0  0.0  0.0  0.0  0.0  0.0  0.0  0.0  0.0  1.0  0.0  0.0  0.0  0.0  0.0  0.0  0.0  0.0  0.0  0.0  0.0  0.0  0.0  0.0  0.0  0.0  0.0\n",
            "14676      12000        12000      4807.340000   0.0     11.97       398.40    2.0       13.0         0.0             3.0     85000.0                  0.0            1    -1.0      66.0  14.08            0               2        15        1      22205        88.8         28  14342.400000          5617.44         12000.00        2342.40             0.00000         0.0                    0.000           398.40                   1.0  0.0  0.0  1.0  0.0  0.0  0.0  0.0  0.0  0.0  0.0  0.0  0.0  0.0  0.0  0.0  0.0  0.0  0.0  0.0  0.0  0.0  0.0  0.0  0.0  0.0  0.0  0.0  0.0  0.0  0.0  0.0  0.0  0.0  0.0  0.0  0.0  0.0  0.0  0.0  0.0  1.0  0.0  0.0  0.0  0.0  0.0  0.0  0.0  0.0  0.0  0.0  0.0  0.0  0.0  0.0  0.0  0.0  0.0  0.0  0.0\n",
            "14685       3000         3000      2975.000000   0.0      9.45        96.03    1.0        5.0        10.0             0.0     75000.0                  0.0            1  5242.0      41.0   1.49            0               0         9        1       8788        39.2         24   3346.881216          3318.99          3000.00         346.88             0.00000         0.0                    0.000          1619.15                   1.0  0.0  0.0  0.0  0.0  1.0  0.0  0.0  0.0  0.0  0.0  0.0  0.0  0.0  0.0  0.0  0.0  0.0  0.0  0.0  0.0  1.0  0.0  0.0  0.0  0.0  0.0  0.0  0.0  0.0  0.0  0.0  0.0  0.0  0.0  0.0  0.0  0.0  0.0  0.0  0.0  0.0  0.0  0.0  0.0  0.0  0.0  0.0  0.0  0.0  0.0  0.0  0.0  0.0  0.0  0.0  0.0  0.0  0.0  0.0  0.0\n",
            "14701       7000         7000      1000.000000   0.0     10.59       227.82    2.0       11.0         3.0             0.0     63500.0                  0.0            1    -1.0     660.0   8.50            0               1         9        1      14930        79.0         21   8174.021910          1167.72          7000.00        1174.02             0.00000         0.0                    0.000          1571.29                   1.0  0.0  0.0  1.0  0.0  0.0  0.0  0.0  0.0  0.0  0.0  0.0  0.0  0.0  0.0  0.0  0.0  0.0  1.0  0.0  0.0  0.0  0.0  0.0  0.0  0.0  0.0  0.0  0.0  0.0  0.0  0.0  0.0  0.0  0.0  0.0  0.0  0.0  0.0  0.0  0.0  0.0  0.0  0.0  0.0  0.0  0.0  0.0  0.0  0.0  0.0  0.0  0.0  0.0  0.0  0.0  0.0  0.0  0.0  0.0  0.0\n",
            "\n",
            "[12962 rows x 92 columns]>\n"
          ]
        }
      ]
    },
    {
      "cell_type": "markdown",
      "metadata": {
        "id": "-i5xL1o5XkNz"
      },
      "source": [
        "# Gradient boosting classifier"
      ]
    },
    {
      "cell_type": "code",
      "metadata": {
        "colab": {
          "base_uri": "https://localhost:8080/"
        },
        "id": "xnaPYsH8ZM0p",
        "outputId": "316391b9-1021-454c-93ec-ca207e23b9e8"
      },
      "source": [
        "from sklearn.ensemble import GradientBoostingClassifier\n",
        "from sklearn.metrics import accuracy_score, precision_score, recall_score\n",
        "\n",
        "# Seperate training input and label\n",
        "y_train = loan_train_dataset[\"loan_status\"]\n",
        "X_train = loan_train_dataset.drop([\"loan_status\"], axis = 1)\n",
        "\n",
        "# Seperate test input and label\n",
        "y_test = loan_test_dataset[\"loan_status\"]\n",
        "X_test = loan_test_dataset.drop([\"loan_status\"], axis = 1)\n",
        "\n",
        "print(X_train.shape, X_test.shape, y_train.shape, y_test.shape)\n",
        "\n",
        "# Initialize, train and test the classifier\n",
        "gradient_boost_classifier = GradientBoostingClassifier(loss = \"exponential\",\n",
        "                                                       learning_rate = 0.8,\n",
        "                                                       n_estimators = 200,\n",
        "                                                       subsample = 1.0,\n",
        "                                                       criterion = \"friedman_mse\",\n",
        "                                                       min_samples_split = 2,\n",
        "                                                       min_samples_leaf = 1,\n",
        "                                                       min_weight_fraction_leaf = 0.0,\n",
        "                                                       max_depth = 3,\n",
        "                                                       min_impurity_decrease = 0.0,\n",
        "                                                       init = None,\n",
        "                                                       random_state = 42,\n",
        "                                                       max_features = \"auto\",\n",
        "                                                       verbose = 0,\n",
        "                                                       max_leaf_nodes = None,\n",
        "                                                       warm_start = False,\n",
        "                                                       validation_fraction = 0.1,\n",
        "                                                       n_iter_no_change = None,\n",
        "                                                       tol = 1e-4,\n",
        "                                                       ccp_alpha = 0.0)\n",
        "gradient_boost_classifier.fit(X_train, y_train)\n",
        "y_pred = gradient_boost_classifier.predict(X_test)\n",
        "print(\"\\nAccuracy: \", accuracy_score(y_test, y_pred))\n",
        "print(\"Precision: \", precision_score(y_test, y_pred))\n",
        "print(\"Recall: \", recall_score(y_test, y_pred))"
      ],
      "execution_count": null,
      "outputs": [
        {
          "output_type": "stream",
          "name": "stdout",
          "text": [
            "(23763, 91) (12962, 91) (23763,) (12962,)\n",
            "\n",
            "Accuracy:  0.9981484338836599\n",
            "Precision:  0.997931282604785\n",
            "Recall:  0.9999098774333093\n"
          ]
        }
      ]
    },
    {
      "cell_type": "markdown",
      "metadata": {
        "id": "24eSSymwXsDg"
      },
      "source": [
        "# Study the effect of number of estimators"
      ]
    },
    {
      "cell_type": "code",
      "metadata": {
        "colab": {
          "base_uri": "https://localhost:8080/",
          "height": 1000
        },
        "id": "dh96bq93m-L7",
        "outputId": "7d6163be-5c8e-4bb9-bf8e-46881484144e"
      },
      "source": [
        "import matplotlib.pyplot as plt\n",
        "\n",
        "list_of_accuracies, list_of_precision, list_of_recall, list_of_number_of_trees = [], [], [], []\n",
        "for number_of_trees in range(5, 250, 10):\n",
        "  print(\"\\n====================== Using numner of trees = \", number_of_trees)\n",
        "  list_of_number_of_trees.append(number_of_trees)\n",
        "  \n",
        "  # Initialize, train and test the classifier\n",
        "  gradient_boost_classifier = GradientBoostingClassifier(loss = \"exponential\",\n",
        "                                                       learning_rate = 0.8,\n",
        "                                                       n_estimators = number_of_trees,\n",
        "                                                       subsample = 1.0,\n",
        "                                                       criterion = \"friedman_mse\",\n",
        "                                                       min_samples_split = 2,\n",
        "                                                       min_samples_leaf = 1,\n",
        "                                                       min_weight_fraction_leaf = 0.0,\n",
        "                                                       max_depth = 3,\n",
        "                                                       min_impurity_decrease = 0.0,\n",
        "                                                       init = None,\n",
        "                                                       random_state = 42,\n",
        "                                                       max_features = \"auto\",\n",
        "                                                       verbose = 0,\n",
        "                                                       max_leaf_nodes = None,\n",
        "                                                       warm_start = False,\n",
        "                                                       validation_fraction = 0.1,\n",
        "                                                       n_iter_no_change = None,\n",
        "                                                       tol = 1e-4,\n",
        "                                                       ccp_alpha = 0.0)\n",
        "  gradient_boost_classifier.fit(X_train, y_train)\n",
        "  y_pred = gradient_boost_classifier.predict(X_test)\n",
        "  list_of_accuracies.append(accuracy_score(y_test, y_pred))\n",
        "  list_of_precision.append(precision_score(y_test, y_pred))\n",
        "  list_of_recall.append(recall_score(y_test, y_pred))\n",
        "  print(\"\\nAccuracy: \", list_of_accuracies[-1])\n",
        "  print(\"Precision: \", list_of_precision[-1])\n",
        "  print(\"Recall: \", list_of_recall[-1])\n",
        "\n",
        "plt.plot(list_of_number_of_trees, list_of_accuracies)\n",
        "plt.plot(list_of_number_of_trees, list_of_precision)\n",
        "plt.plot(list_of_number_of_trees, list_of_recall)\n",
        "plt.title('Accuracy/Precision/Recall vs Number of trees')\n",
        "plt.ylabel('Accuracy/Precision/Recall')\n",
        "plt.xlabel('Number of trees')\n",
        "plt.legend([\"Accuracy\", \"Precision\", \"Recall\"], loc='bottom right')\n",
        "plt.show()"
      ],
      "execution_count": null,
      "outputs": [
        {
          "output_type": "stream",
          "name": "stdout",
          "text": [
            "\n",
            "====================== Using numner of trees =  5\n",
            "\n",
            "Accuracy:  0.9820243789538652\n",
            "Precision:  0.979433312737223\n",
            "Recall:  1.0\n",
            "\n",
            "====================== Using numner of trees =  15\n",
            "\n",
            "Accuracy:  0.9932880728282673\n",
            "Precision:  0.9923083802879885\n",
            "Recall:  0.9999098774333093\n",
            "\n",
            "====================== Using numner of trees =  25\n",
            "\n",
            "Accuracy:  0.9950624903564265\n",
            "Precision:  0.9944424524919326\n",
            "Recall:  0.9998197548666186\n",
            "\n",
            "====================== Using numner of trees =  35\n",
            "\n",
            "Accuracy:  0.9963740163555007\n",
            "Precision:  0.9959601400484783\n",
            "Recall:  0.9998197548666186\n",
            "\n",
            "====================== Using numner of trees =  45\n",
            "\n",
            "Accuracy:  0.9968369078845857\n",
            "Precision:  0.9964969011048235\n",
            "Recall:  0.9998197548666186\n",
            "\n",
            "====================== Using numner of trees =  55\n",
            "\n",
            "Accuracy:  0.9972226508254899\n",
            "Precision:  0.9967660797700323\n",
            "Recall:  1.0\n",
            "\n",
            "====================== Using numner of trees =  65\n",
            "\n",
            "Accuracy:  0.9972226508254899\n",
            "Precision:  0.9967660797700323\n",
            "Recall:  1.0\n",
            "\n",
            "====================== Using numner of trees =  75\n",
            "\n",
            "Accuracy:  0.9973769480018516\n",
            "Precision:  0.9970345075485263\n",
            "Recall:  0.9999098774333093\n",
            "\n",
            "====================== Using numner of trees =  85\n",
            "\n",
            "Accuracy:  0.9974540965900324\n",
            "Precision:  0.9971241125190977\n",
            "Recall:  0.9999098774333093\n",
            "\n",
            "====================== Using numner of trees =  95\n",
            "\n",
            "Accuracy:  0.9975312451782132\n",
            "Precision:  0.9973031283710896\n",
            "Recall:  0.9998197548666186\n",
            "\n",
            "====================== Using numner of trees =  105\n",
            "\n",
            "Accuracy:  0.9975312451782132\n",
            "Precision:  0.9972137335969801\n",
            "Recall:  0.9999098774333093\n",
            "\n",
            "====================== Using numner of trees =  115\n",
            "\n",
            "Accuracy:  0.997685542354575\n",
            "Precision:  0.9973930240920532\n",
            "Recall:  0.9999098774333093\n",
            "\n",
            "====================== Using numner of trees =  125\n",
            "\n",
            "Accuracy:  0.9978398395309366\n",
            "Precision:  0.9975723790685128\n",
            "Recall:  0.9999098774333093\n",
            "\n",
            "====================== Using numner of trees =  135\n",
            "\n",
            "Accuracy:  0.9978398395309366\n",
            "Precision:  0.9975723790685128\n",
            "Recall:  0.9999098774333093\n",
            "\n",
            "====================== Using numner of trees =  145\n",
            "\n",
            "Accuracy:  0.9980712852954791\n",
            "Precision:  0.9978415325119165\n",
            "Recall:  0.9999098774333093\n",
            "\n",
            "====================== Using numner of trees =  155\n",
            "\n",
            "Accuracy:  0.9979169881191174\n",
            "Precision:  0.9976620807481341\n",
            "Recall:  0.9999098774333093\n",
            "\n",
            "====================== Using numner of trees =  165\n",
            "\n",
            "Accuracy:  0.9979169881191174\n",
            "Precision:  0.9976620807481341\n",
            "Recall:  0.9999098774333093\n",
            "\n",
            "====================== Using numner of trees =  175\n",
            "\n",
            "Accuracy:  0.9979169881191174\n",
            "Precision:  0.9976620807481341\n",
            "Recall:  0.9999098774333093\n",
            "\n",
            "====================== Using numner of trees =  185\n",
            "\n",
            "Accuracy:  0.9980712852954791\n",
            "Precision:  0.9978415325119165\n",
            "Recall:  0.9999098774333093\n",
            "\n",
            "====================== Using numner of trees =  195\n",
            "\n",
            "Accuracy:  0.9980712852954791\n",
            "Precision:  0.997931096518845\n",
            "Recall:  0.9998197548666186\n",
            "\n",
            "====================== Using numner of trees =  205\n",
            "\n",
            "Accuracy:  0.9980712852954791\n",
            "Precision:  0.997931096518845\n",
            "Recall:  0.9998197548666186\n",
            "\n",
            "====================== Using numner of trees =  215\n",
            "\n",
            "Accuracy:  0.9980712852954791\n",
            "Precision:  0.997931096518845\n",
            "Recall:  0.9998197548666186\n",
            "\n",
            "====================== Using numner of trees =  225\n",
            "\n",
            "Accuracy:  0.9981484338836599\n",
            "Precision:  0.9980208708168405\n",
            "Recall:  0.9998197548666186\n",
            "\n",
            "====================== Using numner of trees =  235\n",
            "\n",
            "Accuracy:  0.9981484338836599\n",
            "Precision:  0.9980208708168405\n",
            "Recall:  0.9998197548666186\n",
            "\n",
            "====================== Using numner of trees =  245\n",
            "\n",
            "Accuracy:  0.9980712852954791\n",
            "Precision:  0.997931096518845\n",
            "Recall:  0.9998197548666186\n"
          ]
        },
        {
          "output_type": "display_data",
          "data": {
            "image/png": "[encoded data removed]",
            "text/plain": [
              "<Figure size 432x288 with 1 Axes>"
            ]
          },
          "metadata": {
            "needs_background": "light"
          }
        }
      ]
    },
    {
      "cell_type": "markdown",
      "metadata": {
        "id": "CtA1lKCCXyfv"
      },
      "source": [
        "# Comapare results with a single decision tree"
      ]
    },
    {
      "cell_type": "code",
      "metadata": {
        "colab": {
          "base_uri": "https://localhost:8080/"
        },
        "id": "5oWCy8z3q4WI",
        "outputId": "f0b87db7-eb52-4be6-a3de-a65eecb36bb4"
      },
      "source": [
        "from sklearn.tree import DecisionTreeClassifier\n",
        "from sklearn.metrics import accuracy_score, precision_score, recall_score\n",
        "\n",
        "decision_tree_classifier = DecisionTreeClassifier(random_state = 42)\n",
        "decision_tree_classifier.fit(X_train, y_train)\n",
        "y_pred = decision_tree_classifier.predict(X_test)\n",
        "print(\"Accuracy: \", accuracy_score(y_test, y_pred))\n",
        "print(\"Precision: \", precision_score(y_test, y_pred))\n",
        "print(\"Recall: \", recall_score(y_test, y_pred))"
      ],
      "execution_count": null,
      "outputs": [
        {
          "output_type": "stream",
          "name": "stdout",
          "text": [
            "\n",
            "Accuracy:  0.9871933343619812\n",
            "Precision:  0.9953770848440899\n",
            "Recall:  0.9896359048305696\n"
          ]
        }
      ]
    }
  ]
}